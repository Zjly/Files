{
 "cells": [
  {
   "cell_type": "markdown",
   "metadata": {},
   "source": [
    "## 非监督学习\n",
    "前面我们学习了 KNN、决策树、SVM 等机器学习算法，这些都是属于**监督学习（supervised leaning）**。它们的共性就是根据有标签的数据集，训练某种分类器，使得它能够对类别未知的样本进行分类。但是监督学习的前提就是得到大量有标签的数据，当然大部分标签数据都是人工（数据标注员）打上的。\n",
    "\n",
    "而我们实际生产中，往往会遇到这样的场景：给了一个数据集，但是里面的样本并没有标签，而要求按其内在的某种关联来进行“分类”。比如说，视频网站根据用户的观看行为对用户进行分组，进而实现精准推荐。这类问题被称作**非监督学习（unsupervised learning）**。\n",
    "\n",
    "那么，今天给大家讲的就是非监督学习中的聚类算法。\n",
    "\n",
    "**聚类（clustering）**：是在事先并不知道任何样本类别标签的情况下，通过数据之间的内在关系把样本划分为若干类别，使得<span style=\"color:red\">同类别样本之间的相似度高，不同类别之间的样本相似度低</span>。\n",
    "<img src=\"imgs/kms2.png\" width=\"500\">\n",
    "\n",
    "## k 均值聚类（k-means clustering）\n",
    "K-Means 是最基础最常见的聚类算法。\n",
    "### 原理\n",
    "1）选择 K 个样本作为初始质心<br>\n",
    "2）把每个样本分配给离它最近的质心，形成 K 个簇<br>\n",
    "3）重新计算每个簇的质心<br>\n",
    "4）重复 2、3 步，直到质心不再变化或变化范围达到指定的阈值<br>\n",
    "<img src=\"imgs/kms.jpg\" width=\"500\">\n",
    "### 优缺点\n",
    "* 优点\n",
    "    + 原理简单，容易实现\n",
    "    + 聚类结果容易解释\n",
    "* 缺点\n",
    "    + 结果受K值影响\n",
    "    + 无法很好的解决数据簇分布差别较大的情况（比如一类样本数量是另一类样本的100倍）\n"
   ]
  },
  {
   "cell_type": "markdown",
   "metadata": {},
   "source": [
    "## 例1：sklearn 实现 k-means"
   ]
  },
  {
   "cell_type": "code",
   "execution_count": 4,
   "metadata": {},
   "outputs": [
    {
     "name": "stdout",
     "output_type": "stream",
     "text": [
      "[1 1 1 1 2 2 0 0 0 0 0 0]\n"
     ]
    },
    {
     "data": {
      "image/png": "[encoded data removed]",
      "text/plain": [
       "<Figure size 432x288 with 1 Axes>"
      ]
     },
     "metadata": {
      "needs_background": "light"
     },
     "output_type": "display_data"
    }
   ],
   "source": [
    "import numpy as np  \n",
    "from sklearn.cluster import KMeans\n",
    "import matplotlib.pyplot as plt \n",
    "\n",
    "#构建训练集\n",
    "X = np.array([[15, 17], [14,15], [13,16], [12,15], [16,12], [16,8], \n",
    "              [4,6], [5,8], [5,3], [7,4], [7,2], [6,5]])\n",
    "\n",
    "#方法fit_predict的作用是计算聚类中心，并为输入的数据加上分类标签。\n",
    "y_pred = KMeans(n_clusters=3).fit_predict(X)\n",
    "print(y_pred)\n",
    "\n",
    "plt.figure()\n",
    "color = (\"red\", \"green\",\"blue\")\n",
    "colors=np.array(color)[y_pred]\n",
    "plt.scatter(X[:, 0], X[:, 1], c=colors)\n",
    "plt.show()"
   ]
  },
  {
   "cell_type": "markdown",
   "metadata": {},
   "source": [
    "## 例2：Spark MLlib 实现 k-means"
   ]
  },
  {
   "cell_type": "markdown",
   "metadata": {},
   "source": [
    "The MLlib RDD-based API is now in maintenance mode.\n",
    "\n",
    "As of Spark 2.0, the RDD-based APIs in the spark.mllib package have entered maintenance mode. The primary Machine Learning API for Spark is now the DataFrame-based API in the **spark.ml** package."
   ]
  },
  {
   "cell_type": "markdown",
   "metadata": {},
   "source": [
    "## 例3：使用 kmeans 实现简单的文档聚类"
   ]
  },
  {
   "cell_type": "code",
   "execution_count": 6,
   "metadata": {},
   "outputs": [
    {
     "name": "stderr",
     "output_type": "stream",
     "text": [
      "Building prefix dict from the default dictionary ...\n",
      "Dumping model to file cache C:\\Users\\admin\\AppData\\Local\\Temp\\jieba.cache\n",
      "Loading model cost 0.966 seconds.\n",
      "Prefix dict has been built succesfully.\n"
     ]
    },
    {
     "name": "stdout",
     "output_type": "stream",
     "text": [
      "聚类结果: [1 2 0 0 2]\n"
     ]
    }
   ],
   "source": [
    "# 引入中文分词包\n",
    "import jieba\n",
    "from sklearn.cluster import KMeans\n",
    "\n",
    "# sklearn文本特征提取——TfidfVectorizer\n",
    "from sklearn.feature_extraction.text import  TfidfVectorizer\n",
    "\n",
    "# 构建分词函数\n",
    "def jieba_tokenize(text):\n",
    "    return jieba.lcut(text)\n",
    "\n",
    "# 定义待分类的文档\n",
    "text_list = [\"今天天气真好啊啊啊啊\",\\\n",
    "             \"苏大强学习了大数据\", \\\n",
    "            \"我今天想去看一场电影\",\\\n",
    "             \"我今天看了一场电影\",\\\n",
    "             \"大数据相关岗位薪资真高啊\"]\n",
    "\n",
    "# 向量化与TF-IDF预处理\n",
    "tfidf_vectorizer = TfidfVectorizer(tokenizer=jieba_tokenize,lowercase=False)# tokenizer: 指定分词函数\n",
    "tfidf_matrix = tfidf_vectorizer.fit_transform(text_list)\n",
    "\n",
    "#使用 kmeans 聚类\n",
    "km_cluster = KMeans(n_clusters=3)\n",
    "result = km_cluster.fit_predict(tfidf_matrix)\n",
    "\n",
    "print(f\"聚类结果: {result}\" )"
   ]
  }
 ],
 "metadata": {
  "kernelspec": {
   "display_name": "Python 3",
   "language": "python",
   "name": "python3"
  },
  "language_info": {
   "codemirror_mode": {
    "name": "ipython",
    "version": 3
   },
   "file_extension": ".py",
   "mimetype": "text/x-python",
   "name": "python",
   "nbconvert_exporter": "python",
   "pygments_lexer": "ipython3",
   "version": "3.7.0"
  }
 },
 "nbformat": 4,
 "nbformat_minor": 2
}
