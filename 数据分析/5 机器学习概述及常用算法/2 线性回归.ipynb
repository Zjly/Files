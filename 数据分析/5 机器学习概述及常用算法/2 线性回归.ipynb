{
 "cells": [
  {
   "cell_type": "markdown",
   "metadata": {},
   "source": [
    "# 线性回归（Linear Regression）\n",
    "## 回归分析\n",
    "**回归分析**是用来评估变量之间关系的统计过程。用来解释自变量X与因变量Y的关系。即当自变量X发生改变时，因变量Y会如何发生改变。\n",
    "\n",
    "## 线性回归\n",
    "回归分析的一种，评估的自变量X与因变量Y之间是一种线性关系。当只有一个自变量时，称为**一元线性回归**，当具有多个自变量时，称为**多元线性回归**。\n",
    "\n",
    "**拟合**，是指构建一种算法（数学函数），使得该算法能够符合真实的数据。从机器学习角度讲，线性回归就是要构建一个线性函数，使得该函数与目标值之间的拟合性最好。从空间的角度来看，就是要让函数的直线（面），尽可能穿过空间中的数据点。线性回归会输出一个连续值。  \n",
    "![线性回归](imgs/01.png \"线性回归\")\n",
    "\n"
   ]
  },
  {
   "cell_type": "markdown",
   "metadata": {},
   "source": [
    "### 一元线性回归\n",
    "我们从简单的一元线性回归开始。这里，我们以房屋面积（x）与房屋价格（y）为例，显而易见，二者是一种线性关系，房屋价格正比于房屋面积，我们假设比例为w：  \n",
    "$$\\hat{y} = wx$$  \n",
    "然而，这种线性方程一定是过原点的，即当x为0时，y也一定为0。这可能并不符合现实中某些场景。为了能够让方程具有更广泛的适应性，我们这里再增加一个截距，设为b，即之前的方程变为：  \n",
    "$$\\hat{y} = wx + b$$  \n",
    "假定数据集如下：  \n",
    "\n",
    "| 房屋面积 | 房屋价格 |\n",
    "| -------- | ------- |\n",
    "| 30 | 100 |\n",
    "| 40 | 120 |\n",
    "| 40 | 115 |\n",
    "| 50 | 130 |\n",
    "| 50 | 132 |\n",
    "| 60 | 147 |\n",
    "\n",
    "线性回归是用来解释变量之间的关系，但是，这种关系并非严格的函数映射关系。从数据集中，我们也看到了这一点。相同面积的房屋，价格并不完全相同，但是，也不会相差过大。 \n",
    "\n",
    "### 多元线性回归\n",
    "然而，现实中的数据可能是比较复杂的，自变量也很可能不只一个。例如，影响房屋价格也很可能不只房屋面积一个因素，可能还有距地铁距离，距市中心距离，房间数量，房屋所在层数，房屋建筑年代等诸多因素。不过，这些因素，对房屋价格影响的力度（权重）是不同的，例如，房屋所在层数对房屋价格的影响就远不及房屋面积，因此，我们可以使用多个权重来表示多个因素与房屋价格的关系：\n",
    "$$\\hat{y} = w_1x_1 + w_2x_2 + w_3x_3 + …… + w_nx_n + b$$  \n",
    "\n",
    "其中，每个x为影响因素，每个w为对应的影响力度，y为房屋的价格。我们也可以使用向量的表示方式，设x与w为两个向量：\n",
    "$$\\begin{align}w &= (w_1, w_2, w_3, …… w_n)\\\\ \n",
    "x &= (x_1, x_2, x_3, …… x_n)\\end{align}$$\n",
    "\n",
    "则方程可表示为：\n",
    "$$\\begin{align}\\hat{y} &= \\sum\\limits_{i=1}^{n}w_{i}x_{i} + b\\\\ \n",
    "\\ \\ &= w ^Tx + b\\end{align}$$ \n",
    "\n",
    "我们也可以令：\n",
    "$$\\begin{align}\\left\\{\\begin{matrix}x_{0} &= 1\n",
    " & \\\\ w_{0} &= b  \n",
    " & \n",
    "\\end{matrix}\\right.\\end{align}$$  \n",
    "\n",
    "这样，就可以表示为：  \n",
    "$$\\begin{align}\\hat{y} &= w_0x_0 + w_1x_1 + w_2x_2 + w_3x_3 + …… + w_nx_n\\\\ \n",
    "\\ \\ &= \\sum\\limits_{i=0}^{n}w_{i} x_{i}\\\\ \n",
    "\\ \\ &= w ^ {T}x\\end{align}$$ \n",
    "\n",
    "多元线性回归在空间中，可以表示为一个超平面，去拟合空间中的数据点。\n",
    "![多元线性回归](imgs/02.png \"多元线性回归\")"
   ]
  },
  {
   "cell_type": "markdown",
   "metadata": {},
   "source": [
    "## 损失函数\n",
    "通过之前的介绍，我们得知，对机器学习来讲，就是从已知数据去建立一个模型，使得该模型能够对未知的数据进行预测。实际上，机器学习的过程，就是确定模型参数的过程，因为只要模型的参数确定了，我们就可以利用模型进行预测。\n",
    "那么，<span style=\"color:red;\">模型的参数该如果求解呢？</span>对于监督学习来说，我们可以通过建立损失函数来实现。<br>\n",
    "* **损失函数**\n",
    "    + 也叫目标函数或者代价函数\n",
    "    + 是一个关于误差的函数\n",
    "    + 用来衡量模型预测值与真实值之间的差异\n",
    "    + 习惯使用J来表示，例如，J(w)则表示以w为自变量的函数。\n",
    "    \n",
    "也就是说，损失函数是一个关于模型参数的函数。我们的目标，就是要在自变量取值的可能组合中，找到一组最合适的值，使得损失函数的值最小。  "
   ]
  },
  {
   "cell_type": "markdown",
   "metadata": {},
   "source": [
    "\n",
    "\n",
    "## 参数求解\n",
    "* 最小二乘法\n",
    "    + 线性假设下的一种有闭式解的参数求解方法，最终结果为全局最优\n",
    "* 梯度下降法\n",
    "    + 一种通过迭代更新来逐步进行的参数优化方法，最终结果为局部最优\n",
    "\n",
    "##### 误差与分布\n",
    "接下来，我们来看一下线性回归模型中的误差。正如我们之前所提及的，线性回归解释的变量（现实中存在的样本），是存在线性关系的。然而，这种关系并不是严格的函数映射关系，但是，我们构建的模型（方程）却是严格的函数映射关系的，因此，对于每个样本来说，我们拟合的结果会与真实值之间存在一定的误差：  \n",
    "$$\\begin{align}\\hat{y} ^ {(i)} &= w ^ {T}  x ^ {(i)}\\\\ \n",
    "y ^ {(i)} &= \\hat{y} ^ {(i)} + \\varepsilon ^ {(i)}\n",
    "\\end{align}$$ \n",
    "其中，$\\varepsilon ^ {(i)}$表示每个样本与实际值之间的误差。<br>\n",
    "\n",
    "<font face=\"楷体\" size=3>说明：在机器学习中，习惯用上标表示样本，用下标表示特征。</font>\n",
    "\n",
    "由于每个样本的误差$\\varepsilon$是独立同分布的，根据中心极限定理，$\\varepsilon$服从均值为0，方差为$\\sigma ^ {2}$的正态分布。因此，根据正态分布的概率密度公式：  \n",
    "\n",
    "$$\\begin{align}p(\\varepsilon ^ {(i)}) &= \\frac{1}{\\sqrt{2\\pi}\\sigma}exp(-\\frac{(\\varepsilon ^ {(i)}) ^ {2}}{2\\sigma ^ {2}})\\\\ \n",
    "p(y ^ {(i)}|x ^ {(i)};w) &= \\frac{1}{\\sqrt{2\\pi}\\sigma}exp(-\\frac{(y ^ {(i)} - w ^ {T}x ^ {(i)}) ^ {2}}{2\\sigma ^ {2}})\n",
    "\\end{align}$$"
   ]
  },
  {
   "cell_type": "markdown",
   "metadata": {},
   "source": [
    "##### 最大似然估计\n",
    "以上是一个样本的概率密度，我们假设数据集中共有m个样本，每个样本具有n个特征，则多个样本的联合密度函数（似然函数）为：  \n",
    "\n",
    "$$\\begin{align}L(w) &= \\prod \\limits_{i=1}^{m}p(y ^ {(i)}|x ^ {(i)};w)\\\\ \n",
    "&= \\prod\\limits_{i=1}^{m}\\frac{1}{\\sigma\\sqrt{2\\pi}}exp(-\\frac{(y ^ {(i)} - w ^ {T}x ^ {(i)}) ^ {2}}{2\\sigma ^ {2}})\n",
    "\\end{align}$$\n",
    "\n",
    "我们要让误差最小，则要让似然函数最大，则此时参数w的值，就是我们要求解的值。不过，累计乘积的方式不利于求解，我们这里使用对数似然函数，即在联合密度函数上取对数操作（取对数操作不会改变函数的极值点），这样就可以将累计乘积转换为累计求和的形式。  \n",
    "$$\\begin{align}ln(L(w)) &= ln\\prod\\limits_{i=1}^{m}\\frac{1}{\\sqrt{2\\pi}\\sigma}exp(-\\frac{(y ^ {(i)} - w ^ {T}x ^ {(i)}) ^ {2}}{2\\sigma ^ {2}})\\\\ \n",
    "&= \\sum\\limits_{i=1}^{m}ln\\frac{1}{\\sqrt{2\\pi}\\sigma}exp(-\\frac{(y ^ {(i)} - w ^ {T}x ^ {(i)}) ^ {2}}{2\\sigma ^ {2}})\\\\ \n",
    "&=\\sum\\limits_{i=1}^{m}[ln\\frac{1}{\\sqrt{2\\pi}\\sigma}+lnexp(-\\frac{(y ^ {(i)} - w ^ {T}x ^ {(i)}) ^ {2}}{2\\sigma ^ {2}})]\\\\\n",
    "&= mln\\frac{1}{\\sqrt{2\\pi}\\sigma} - \\frac{1}{\\sigma ^ {2}}  \\frac{1}{2}\\sum\\limits_{i=1}^{m}(y ^ {(i)} - w ^ {T}x ^ {(i)}) ^ {2}\n",
    "\\end{align}$$\n",
    "\n",
    "上式中，前半部分都是常数，我们的目的是为了让联合密度概率值最大，因此，我们只需要让后半部分的值最小即可，因此，后半部分，就可以作为模型的损失函数。该函数是二次函数，具有唯一极小值。  "
   ]
  },
  {
   "cell_type": "markdown",
   "metadata": {},
   "source": [
    "### 最小二乘法（ordinary least squares，OLS）\n",
    "**最小二乘法**，通过让样本数据的预测值与真实值之间的误差平方和最小，进而求解参数的方法。  \n",
    "* 我们可以通过极大似然估计，寻找出目标函数。\n",
    "* 我们也可以直观的进行分析。我们的目的，其实就是要寻找一条合适的直线（平面），使得所有样本距离直线（平面）的距离达到最小化即可。因此，我们可以采用每个样本的预测值与真实值之差，然后取平方和的方式，能够让该平方和最小的w，就是我们需要求解的w。<img src=\"imgs/ols.png\" width=\"300\">\n",
    "<br><span style=\"color:red\">思考：为什么要用平方和，而不是直接求和？  </span>\n",
    "\n",
    "现在，我们的得到了目标函数：\n",
    "$J(w) = \\frac{1}{2}\\sum\\limits_{i=1}^{m}(y ^ {(i)} - w ^ {T}x ^ {(i)}) ^ {2}$\n",
    " \n",
    "由于：  \n",
    "$%y_hat定义\n",
    "\\hat{y} = \\begin{pmatrix}\n",
    "\\hat{y} ^ {(1)}\\\\ \n",
    "\\hat{y} ^ {(2)}\\\\ \n",
    "……\\\\ \n",
    "\\hat{y} ^ {(m)}\n",
    "\\end{pmatrix} = \n",
    "\\begin{pmatrix}\n",
    "w ^ {T} x ^ {(1)}\\\\ \n",
    "w ^ {T} x ^ {(2)}\\\\ \n",
    "……\\\\ \n",
    "w ^ {T} x ^ {(m)}\n",
    "\\end{pmatrix} = \n",
    "%wi * xi 展开式\n",
    "\\begin{pmatrix}\n",
    "w_{1}x_{1} ^ {(1)} + w_{2}x_{2} ^ {(1)} + …… + w_{n}x_{n} ^ {(1)}\\\\ \n",
    "w_{1}x_{1} ^ {(2)} + w_{2}x_{2} ^ {(2)} + …… + w_{n}x_{n} ^ {(2)}\\\\ \n",
    "……\\\\ \n",
    "w_{1}x_{1} ^ {(m)} + w_{2}x_{2} ^ {(m)} + …… + w_{n}x_{n} ^ {(m)}\n",
    "\\end{pmatrix} = \n",
    "\\begin{pmatrix}\n",
    "x_{1} ^ {(1)}, x_{2} ^ {(1)}, ……x_{n} ^ {(1)}\\\\ \n",
    "x_{1} ^ {(2)}, x_{2} ^ {(2)}, ……x_{n} ^ {(2)}\\\\ \n",
    "……\\\\ \n",
    "x_{1} ^ {(m)}, x_{2} ^ {(m)}, ……x_{n} ^ {(m)}\n",
    "\\end{pmatrix} \\cdot\n",
    "\\begin{pmatrix}\n",
    "w_{1}\\\\ \n",
    "w_{2}\\\\ \n",
    "……\\\\ \n",
    "w_{n}\n",
    "\\end{pmatrix} = X\\cdot w $\n",
    "\n",
    "$\n",
    "%y的定义\n",
    "y = \\begin{pmatrix}\n",
    "y ^ {(1)}\\\\ \n",
    "y ^ {(2)}\\\\ \n",
    "……\\\\ \n",
    "y ^ {(m)}\n",
    "\\end{pmatrix}\\qquad\n",
    "$\n",
    "\n",
    "$\n",
    "%error定义\n",
    "error = \\begin{pmatrix}\n",
    "error ^ {(1)}\\\\ \n",
    "error ^ {(2)}\\\\ \n",
    "……\\\\ \n",
    "error ^ {(m)}\n",
    "\\end{pmatrix} = \n",
    "\\begin{pmatrix}\n",
    "\\hat{y} ^ {(1)} - y ^ {(1)}\\\\ \n",
    "\\hat{y} ^ {(2)} - y ^ {(2)}\\\\ \n",
    "……\\\\ \n",
    "\\hat{y} ^ {(m)} - y ^ {(m)}\n",
    "\\end{pmatrix} = \\hat{y} - y = X\\cdot w - y\\qquad  \\\\ \\Rightarrow\n",
    "%error总结\n",
    "\\sum\\limits_{i=1}^{m}(error ^ {(i)}) ^ {2} = \n",
    "\\sum\\limits_{i=1}^{m}(\\hat{y} ^ {(i)} - y ^ {(i)}) ^ {2} = \n",
    "\\sum\\limits_{i=1}^{m}( w ^ {T}x ^ {(i)} - y ^ {(i)}) ^ {2} = error ^ {T} \\cdot error\n",
    "$\n"
   ]
  },
  {
   "cell_type": "markdown",
   "metadata": {},
   "source": [
    "即：  \n",
    "\n",
    "$$\\begin{align}J(w) &= \\frac{1}{2}\\sum\\limits_{i=1}^{m}(y ^ {(i)} - w ^ {T}x ^ {(i)}) ^ {2}\\\\ \n",
    "&= \\frac{1}{2}(Xw - y) ^ {T}(Xw - y)\\end{align}\n",
    "$$\n",
    "</font>  \n",
    "我们要求该目标函数的最小值，只需要对自变量w进行求导，导数为0时w的值，就是我们要求解的值。  \n",
    "\n",
    "$$\\begin{align}\\triangledown_{w} J(w) &= \\triangledown_{w}(\\frac{1}{2}(Xw - y) ^ {T}(Xw - y))\\\\ \n",
    "&= \\triangledown_{w}(\\frac{1}{2}(w ^ {T}X ^ {T} - y ^ {T})(Xw - y))\\\\ \n",
    "&= \\triangledown_{w}(\\frac{1}{2}(w ^ {T}X ^ {T}Xw - w ^ {T}X ^ {T}y - y ^ {T}Xw + y ^ {T}y))\\\\\\end{align} \n",
    "$$\n",
    "\n",
    "根据矩阵与向量的求导公式，有：  \n",
    "\n",
    "$$\\begin{align}\\frac{\\partial A\\vec{x}}{\\partial \\vec{x}} &= A ^ {T} \\\\ \n",
    "\\frac{\\partial A\\vec{x}}{\\partial \\vec{x} ^ {T}} &= A \\\\ \n",
    "\\frac{\\partial (\\vec{x} ^ {T}A)}{\\partial \\vec{x}} &= A \\\\ \n",
    "\\frac{\\partial (\\vec{x} ^ {T}A\\vec{x})}{\\partial \\vec{x}} &= (A ^ {T} + A)\\vec{x} \\\\ \n",
    "\\end{align}$$\n",
    "\n",
    "特别的，如果$A = A ^ {T}$（A为对称矩阵），则：  \n",
    "\n",
    "$$\\frac{\\partial (\\vec{x} ^ {T}A\\vec{x})}{\\partial \\vec{x}} = 2A\\vec{x}\n",
    "$$\n",
    "因此：  \n",
    "$$\\begin{align}\\triangledown_{w}(\\frac{1}{2}(w ^ {T}X ^ {T}Xw - w ^ {T}X ^ {T}y - y ^ {T}Xw + y ^ {T}y))&= \\frac{1}{2}(2X ^ {T}Xw - X ^ {T}y - (y ^ {T}X) ^ {T})\\\\ \n",
    "&= X ^ {T}Xw - X ^ {T}y\n",
    "\\end{align}$$\n",
    "令导函数的值为0，则：  \n",
    "$$w = (X ^ {T}X) ^ {-1}X ^ {T}y\n",
    "$$ \n",
    "\n",
    "以上的求解方式，就是**最小二乘法**。<br>\n",
    "\n",
    "<span style=\"color:red;\">注意：使用最小二乘法求解的时候，要求矩阵$X ^ {T}X$必须是可逆的。</span>"
   ]
  },
  {
   "cell_type": "markdown",
   "metadata": {},
   "source": [
    "## 梯度下降法\n",
    "为什么要使用梯度下降算法求解呢？\n",
    "* 绕过对矩阵求逆\n",
    "* 在算法上更容易实现\n",
    "\n",
    "### 概念\n",
    "##### 微分\n",
    "* 单变量\n",
    "    > $\\begin{align}\n",
    "       \\frac{d}{dx}x^2 &= 2x \\\\\n",
    "       \\frac{d}{dy}(-2y^3) &= -6y^2 \\\\\n",
    "       \\frac{d}{dx}(x-6)^2 &= 2(x-6)\\frac{d}{dx}(x-6)=2(x-6)\n",
    "      \\end{align}$\n",
    "    \n",
    "* 多变量\n",
    "    > $\\begin{align}\n",
    "       \\frac{\\partial}{\\partial x}x^2y^2 &= 2xy^2 \\\\\n",
    "       \\frac{\\partial}{\\partial y}(x^2-2y^3) &= -6y^2 \\\\\n",
    "       \\frac{\\partial}{\\partial z}(5x+6y-10z)&= -10\n",
    "      \\end{align}$\n",
    "\n",
    "##### 梯度\n",
    "* 梯度就是分别对每个变量求微分，公式：$$\\triangledown f(x_1, x_2, ...)=(\\frac{\\partial f(x_1, x_2, ...)}{\\partial x_1}, \\frac{\\partial f(x_1, x_2, ...)}{\\partial x_2}, ...)$$ \n",
    "* 是一个向量，表示函数在某一点处的方向导数，当 $f(x)$ 只有一个自变量时，梯度就是导数。\n",
    "* 函数值在这点沿着该方向变化最快\n",
    "* 对于凸函数而言，梯度方向指向函数值增大的方向，负梯度方向指向函数值减少的方向\n",
    "\n",
    "##### 理解梯度下降\n",
    "梯度下降(上升)法的基本思想可以类比为一个下山的过程。假设这样一个场景：\n",
    ">一个人被困在山上，需要从山上下来，也就是找到山谷。但此时山上的浓雾很大，导致能见度很低。因此，下山的路径就无法确定，他必须利用自己周围的信息去找到下山的路径。这个时候，他就可以利用梯度下降算法思想来帮助自己下山。<br><br>具体来说就是：以他当前的所处的位置为基准，寻找这个位置最陡峭的地方，然后朝着山的高度下降的地方走。同理，如果我们的目标是上山，也就是爬到山顶，那么此时应该是朝着最陡峭的方向往上走。然后每走一段距离，都反复采用同一个方法，最后就能成功的抵达山谷（山顶）。\n",
    "\n",
    "<img src=\"imgs/tdxj.png\" width=\"\">\n",
    "\n",
    "### 梯度下降求解\n",
    "对于损失函数：\n",
    "$$J(w) = \\frac{1}{2}\\sum\\limits_{i=1}^{m}(y ^ {(i)} - w ^ {T}x ^ {(i)}) ^ {2}$$  \n",
    "什么样的参数能使得目标函数达到极小值点，也就是寻找山谷最低点？我们可以使用梯度下降的方式，不断去调整权重$w$，进而去减小损失函数$J(w)$的值。经过不断迭代，最终求得最优的权重$w$，使得损失函数的值最小（近似最小）。\n",
    "调整方式为：  \n",
    "\n",
    "$$w = w - \\alpha\\triangledown_wJ(w)$$\n",
    "\n",
    ">* $\\alpha$ 在梯度下降算法中被称作为学习率或者步长，意味着我们可以通过 $\\alpha$ 来控制每一步走的距离，以保证不要因为走太快，错过了最低点。同时也要保证不要走的太慢，导致太阳下山了，还没有走到山下。所以 $\\alpha$ 的选择在梯度下降法中往往是很重要的！ $\\alpha$ 不能太大也不能太小，太小的话，可能导致迟迟走不到最低点，太大的话，会导致错过最低点！（<span style=\"color:red\">$\\alpha$ 又叫超参数：需要人为事先指定的参数</span>）\n",
    "<img src=\"imgs/alpha.png\" width=\"400\"><br>\n",
    "* 梯度前加一个负号，就意味着朝着梯度相反的方向前进！我们在前文提到，梯度的方向实际就是函数在此点上升最快的方向！而我们需要朝着下降最快的方向走，自然就是负的梯度的方向，所以此处需要加上负号\n",
    "\n",
    "我们这里先单独对一个样本求梯度来演示，所有样本，只需要最后进行累计求和即可。  \n",
    "\n",
    "$$\\begin{align}\\frac{\\partial J(w)}{\\partial w_j} &= \\frac{\\partial}{\\partial w_j}\\frac{1}{2}(y ^ {(i)} - w ^ {T}x ^ {(i)}) ^ {2}\\\\ \n",
    "&= 2 * \\frac{1}{2} * (y ^ {(i)} - w ^ {T} x ^ {(i)})\\frac{\\partial}{\\partial w_j}(y ^ {(i)} - w ^ {T}x ^ {(i)})\\\\ \n",
    "&= (y ^ {(i)} - w ^ {T}x ^ {(i)})\\frac{\\partial}{\\partial w_j}(y ^ {(i)} - \\sum_{j=1}^{n}w_jx_j^{(i)})\\\\ \n",
    "&= -(y ^ {(i)} - w ^ {T}x ^ {(i)})x_j\\\\ \n",
    "&= -(y ^ {(i)} - \\hat y ^ {(i)})x_j\n",
    "\\end{align}$$  "
   ]
  },
  {
   "cell_type": "markdown",
   "metadata": {},
   "source": [
    "### 梯度下降分类\n",
    "梯度下降可以分为三类：\n",
    "* 随机梯度下降（Stochastic Gradient Descent，SGD）\n",
    "* 批量梯度下降（Batch Gradient Descent，BGD）\n",
    "* 小批量梯度下降（Mini-Batch Gradient Descent，MBGD）"
   ]
  },
  {
   "cell_type": "markdown",
   "metadata": {},
   "source": [
    "## 一维梯度下降\n",
    "程序：使用梯度下降求解方程$y=x^{2} - 2x + 1$的最小值。  \n",
    "观察学习率对梯度下降的影响。学习率不是越大越好，也不是越小越好。"
   ]
  },
  {
   "cell_type": "code",
   "execution_count": 5,
   "metadata": {},
   "outputs": [],
   "source": [
    "import numpy as np\n",
    "import matplotlib.pyplot as plt\n",
    "\n",
    "plt.rcParams[\"font.family\"] = \"SimHei\"\n",
    "plt.rcParams[\"axes.unicode_minus\"]=False\n",
    "\n",
    "%matplotlib qt \n",
    "# inline 默认\n",
    "\n",
    "# 定义原函数，这里可以想象成为是损失函数。我们的目的就是\n",
    "# 要求极值点（极小值）。也就是说，我们要求一个（组）合适的x，\n",
    "# 使得损失函数的值最小。\n",
    "def f(x):\n",
    "    return x ** 2 - 2 * x + 1\n",
    "\n",
    "# 定义导函数（梯度）\n",
    "def gradient(x):\n",
    "    return 2 * x - 2\n",
    "\n",
    "# 定义x的初始位置，即梯度下降的开始位置。\n",
    "x = 10\n",
    "\n",
    "# 定义列表（Java中的数组），来保存x与y的轨迹。即随着x的调整，\n",
    "# x与y的值。\n",
    "x_list = []\n",
    "y_list = []\n",
    "\n",
    "# 定义学习率。用来控制梯度下降的过程中，调整步幅的大小。\n",
    "alpha = 0.9\n",
    "\n",
    "# 进行迭代，不断去调整x的值，进而使得y的值不断进行减小。\n",
    "for i in range(30):\n",
    "    # 使用列表加入x与y的移动轨迹。\n",
    "    x_list.append(x)\n",
    "    y_list.append(f(x))\n",
    "    # 根据梯度调整x的值，进而令y的值不断减小。\n",
    "    x -= alpha * gradient(x)\n",
    "# 输出x与y的移动轨迹。\n",
    "# print(y_list)\n",
    "# print(x_list)\n",
    "\n",
    "# 构建数据x。\n",
    "x = np.linspace(-9, 11, 200)\n",
    "# 构建数据y。\n",
    "y = x ** 2 - 2 * x + 1\n",
    "# 画出图像（抛物线。）\n",
    "plt.plot(x, y)\n",
    "# 设置标题。支持Latex语法。\n",
    "plt.title(\"函数$y=x^{2}-2x+1$的图像\")\n",
    "# 绘制x与y的移动轨迹。r 红色线。 o 点以实心圈形式展示。--虚线。\n",
    "plt.plot(x_list, y_list, \"ro--\")\n",
    "plt.show()"
   ]
  },
  {
   "cell_type": "markdown",
   "metadata": {},
   "source": [
    "## 二维梯度下降\n",
    "程序：使用梯度下降求解方程$y = 0.2(x1 + x2) ^ {2} - 0.3x1x2 + 0.4$的最小值。"
   ]
  },
  {
   "cell_type": "code",
   "execution_count": 6,
   "metadata": {},
   "outputs": [],
   "source": [
    "import numpy as np\n",
    "from mpl_toolkits.mplot3d import Axes3D\n",
    "import matplotlib.pyplot as plt\n",
    "plt.rcParams[\"font.family\"] = \"SimHei\"\n",
    "plt.rcParams[\"axes.unicode_minus\"]=False\n",
    "#tk是默认\n",
    "%matplotlib qt \n",
    "\n",
    "\n",
    "# 定义原函数\n",
    "def f(x1, x2):\n",
    "    return 0.2 * (x1 + x2) ** 2 - 0.3 * x1 * x2 + 0.4\n",
    "\n",
    "# 损失函数对x1求偏导的梯度\n",
    "def gradient_x1(x1, x2):\n",
    "    return 0.4 * (x1 + x2) - 0.3 * x2\n",
    "\n",
    "# 损失函数对x2求偏导的梯度\n",
    "def gradient_x2(x1, x2):\n",
    "    return 0.4 * (x1 + x2) - 0.3 * x1\n",
    "\n",
    "# 定义学习率。\n",
    "alpha = 0.7\n",
    "# 定义列表，用来保存x与y的更新轨迹。\n",
    "x1_list = []\n",
    "x2_list = []\n",
    "y_list = []\n",
    "# 定义初始点。\n",
    "x1, x2 = 4.5, 4.5\n",
    "\n",
    "# 进行循环迭代，不断去调整x1与x2的值，使得y（损失函数）的值最小。\n",
    "for i in range(50):\n",
    "    # 加入x1，x2与y的移动轨迹。\n",
    "    x1_list.append(x1)\n",
    "    x2_list.append(x2)\n",
    "    y_list.append(f(x1, x2))\n",
    "    # 更新x1与x2。\n",
    "    x1 -= alpha * gradient_x1(x1, x2)\n",
    "    x2 -= alpha * gradient_x2(x1, x2)\n",
    "# 输出x1，x2与y的轨迹。\n",
    "# print(x1_list)\n",
    "# print(x2_list)\n",
    "# print(y_list)\n",
    "\n",
    "X1 = np.arange(-5, 5, 0.05)\n",
    "X2 = np.arange(-5, 5, 0.05)\n",
    "# 进行网格扩展。X1与X2都会扩展成为二维数组。\n",
    "X1, X2 = np.meshgrid(X1, X2)\n",
    "Y = np.array([X1.ravel(), X2.ravel()]).T\n",
    "Y = f(Y[:, 0], Y[:, 1])\n",
    "# 将Y的形状改变成语X1的形状相同，目的是为了稍后的可视化。\n",
    "Y = Y.reshape(X1.shape)\n",
    "\n",
    "fig = plt.figure()\n",
    "ax = Axes3D(fig)\n",
    "# 绘制三维曲面图。\n",
    "surf = ax.plot_surface(X1, X2, Y, rstride=5, cstride=5, cmap=\"rainbow\")\n",
    "# 绘制点移动的轨迹\n",
    "ax.plot(x1_list, x2_list, y_list, 'bo--')\n",
    "# 显示颜色条。\n",
    "# fig.colorbar(surf)\n",
    "plt.title(\"函数$y = 0.2(x1 + x2) ^ {2} - 3x1x2 + 0.4$\")\n",
    "plt.show()"
   ]
  },
  {
   "cell_type": "markdown",
   "metadata": {},
   "source": [
    "## 一元线性回归程序示例\n",
    "\n",
    "接下来，我们来实现一元线性回归。"
   ]
  },
  {
   "cell_type": "code",
   "execution_count": 3,
   "metadata": {},
   "outputs": [
    {
     "name": "stdout",
     "output_type": "stream",
     "text": [
      "[[1 2 3]\n",
      " [3 4 5]]\n",
      "[1 2 3 3 4 5]\n"
     ]
    }
   ],
   "source": [
    "import numpy as np\n",
    "\n",
    "x = np.array([[1, 2, 3], [3, 4, 5]])\n",
    "# ravel() 将多维数组拉伸成一维数组。\n",
    "print(x)\n",
    "x = x.ravel()\n",
    "print(x)"
   ]
  },
  {
   "cell_type": "code",
   "execution_count": 19,
   "metadata": {
    "scrolled": false
   },
   "outputs": [
    {
     "name": "stdout",
     "output_type": "stream",
     "text": [
      "权重：[[0.84950096]]\n",
      "截距：[-0.74126877]\n",
      "实际值：[ 7.79829165  5.41032022 -4.34865344  0.05661304  1.24258389  7.78796484\n",
      " -8.85413247 -5.53572901 -4.67992203  3.26223688]\n",
      "预测值：[ 7.65169863  5.37275712 -4.16818454  0.16860713  2.19244324  7.27754405\n",
      " -8.77708862 -5.30765529 -4.03212833  2.77068213]\n"
     ]
    }
   ],
   "source": [
    "import numpy as np\n",
    "\n",
    "# 用于线性回归的类\n",
    "from sklearn.linear_model import LinearRegression\n",
    "# 用来切分训练集与测试集\n",
    "from sklearn.model_selection import train_test_split\n",
    "\n",
    "# 设置随机种子。这样，只要随机种子相同，我们就能够产生相同的随机序列值。\n",
    "np.random.seed(0)\n",
    "\n",
    "# 生成样本。在[-10, 10]之间，生成1000个数据，该数据是等差数列。\n",
    "x = np.linspace(-10, 10, 1000)\n",
    "\n",
    "# 将x转换为二维矩阵的形式，目的是可以应用到最小二乘公式中。\n",
    "x = x.reshape(-1, 1)\n",
    "\n",
    "# 生成标签。(矢量化计算，以整个数组进行计算。实际上，就是对应数组中的每个分量进行计算。)\n",
    "y = 0.85 * x - 0.72\n",
    "\n",
    "# 产生噪声（波动）。（随机的误差，服从正态分布。）\n",
    "e = np.random.normal(scale=0.5, size=x.shape)\n",
    "y += e\n",
    "\n",
    "# 创建线性回归类，底层就是使用最小二乘法进行计算的。\n",
    "lr = LinearRegression()\n",
    "\n",
    "# 分割数据集与标签，test_size默认值为0.25,。random_state就是随机种子，可以让随机序列重现。\n",
    "train_X, test_X, train_y, test_y = train_test_split(x, y, test_size=0.25, random_state=0)\n",
    "\n",
    "# fit 拟合模型，训练模型。\n",
    "lr.fit(train_X, train_y)\n",
    "\n",
    "# 输出训练之后的系数与截距。\n",
    "# lr.coef_ 就是模型中的w（权重）。\n",
    "# lr.intercept_ 就是模型中的截距（偏置）b。\n",
    "print(f\"权重：{lr.coef_}\")\n",
    "print(f\"截距：{lr.intercept_}\")\n",
    "\n",
    "# 从训练集学习到了模型的参数（系数与截距），因此，就使用训练的系数与截距进行测试（预测）。\n",
    "result = lr.predict(test_X)\n",
    "\n",
    "# ravel() 将多维数组拉伸成一维数组。\n",
    "# [:10]是Python中切片语法，表示获取数组中前10个元素。包含起始点，不包含终止点。\n",
    "print(f\"实际值：{test_y.ravel()[:10]}\")\n",
    "print(f\"预测值：{result.ravel()[:10]}\")"
   ]
  },
  {
   "cell_type": "code",
   "execution_count": 20,
   "metadata": {
    "scrolled": false
   },
   "outputs": [
    {
     "data": {
      "text/plain": [
       "[<matplotlib.lines.Line2D at 0x1eb2d0e2198>]"
      ]
     },
     "execution_count": 20,
     "metadata": {},
     "output_type": "execute_result"
    },
    {
     "data": {
      "image/png": "[encoded data removed]",
      "text/plain": [
       "<Figure size 432x288 with 1 Axes>"
      ]
     },
     "metadata": {
      "needs_background": "light"
     },
     "output_type": "display_data"
    }
   ],
   "source": [
    "# 进行可视化展示。\n",
    "import matplotlib as mpl\n",
    "import matplotlib.pyplot as plt\n",
    "# 设置中文字体，以至于可以支持中文的显示。\n",
    "mpl.rcParams[\"font.family\"] = \"SimHei\"\n",
    "# 当设置中文字体后，减号（负号）会使用Unicode字符集中的减号，该减号显示不正常，\n",
    "# 为了能够正常显示减号，我们将减号还原为ASCII字符集中的减号。\n",
    "mpl.rcParams[\"axes.unicode_minus\"] = False\n",
    "%matplotlib inline\n",
    "# 绘制数据的散点图。\n",
    "# x所有横坐标构成的数组。y所有纵坐标构成的数组。s设置散点大小。\n",
    "plt.scatter(x, y, s=2)\n",
    "# 绘制回归线。回归线会使得误差和最小。\n",
    "plt.plot(x, lr.predict(x), \"r-\")"
   ]
  },
  {
   "cell_type": "markdown",
   "metadata": {},
   "source": [
    "## 线性回归模型评估\n",
    "当我们建立好模型后，模型的效果如何呢？我们可以采用如下的指标来进行衡量。  \n",
    "* MSE\n",
    "* RMSE\n",
    "* MAE\n",
    "* $R ^ {2}$\n",
    "\n",
    "### MSE\n",
    "MSE（Mean Squared Error），平均平方误差，为所有样本误差（真实值与预测值之差）的平方和，然后取均值。\n",
    "\n",
    "$MSE = \\frac{1}{m}\\sum\\limits_{i=1}^{m}(y ^ {(i)} - \\hat{y} ^ {(i)}) ^ {2}$\n",
    "\n",
    "\n",
    "### RMSE\n",
    "RMSE（Root Mean Squared Error），平均平方误差的平方根，即在MSE的基础上，取平方根。\n",
    "\n",
    "$RMSE = \\sqrt{MSE} = \\sqrt{\\frac{1}{m}\\sum\\limits_{i=1}^{m}(y ^ {(i)} - \\hat{y} ^ {(i)}) ^ {2}}$\n",
    "\n",
    "\n",
    "### MAE\n",
    "MAE（Mean Absolute Error），平均绝对值误差，为所有样本误差的绝对值和。\n",
    "$MAE = \\frac{1}{m}\\sum\\limits_{i=1}^{m}|y ^ {(i)} - \\hat{y} ^ {(i)}|$\n",
    "\n",
    "\n",
    "### $R ^ {2}$\n",
    "$R ^ {2}$为决定系数，用来表示模型拟合性的分值，值越高表示模型拟合性越好，最高为1，可能为负值。  \n",
    "$R ^ {2}$的计算公式为1减去RSS与TSS的商。其中，TSS（Total Sum of Squares）为所有样本与均值的差异，是方差的m倍。而RSS（Residual sum of squares）为所有样本误差的平方和，是MSE的m倍。  \n",
    "\n",
    "$R ^ {2} = 1 - \\frac{RSS}{TSS} = 1 - \\frac{\\sum\\limits_{i=1}^{m}(y ^ {(i)} - \\hat{y} ^ {(i)}) ^ {2}}\n",
    "{\\sum\\limits_{i=1}^{m}(y ^ {(i)} - \\overline{y}) ^ {2}} \\\\ \n",
    "\\overline{y} = \\frac{1}{m}\\sum\\limits_{i=1}^{m}y ^ {(i)}\n",
    "$\n",
    " \n",
    "从公式定义可知，最理想情况，所有的样本的预测值与真实值相同，即RSS为0，此时$R ^ {2}$为1。"
   ]
  },
  {
   "cell_type": "code",
   "execution_count": 7,
   "metadata": {
    "scrolled": false
   },
   "outputs": [
    {
     "name": "stdout",
     "output_type": "stream",
     "text": [
      "均方误差：0.2163227899666729\n",
      "根均方误差：0.4651051386156391\n",
      "平均绝对值误差：0.35911863171860864\n",
      "训练集R^2：0.9897181522561767\n",
      "测试集R^2：0.9908097071925296\n"
     ]
    }
   ],
   "source": [
    "from sklearn.metrics import mean_squared_error, mean_absolute_error\n",
    "\n",
    "print(f\"均方误差：{mean_squared_error(result, test_y)}\")\n",
    "print(f\"根均方误差：{np.sqrt(mean_squared_error(result, test_y))}\")\n",
    "print(f\"平均绝对值误差：{mean_absolute_error(result, test_y)}\")\n",
    "print(f\"训练集R^2：{lr.score(train_X, train_y)}\")\n",
    "print(f\"测试集R^2：{lr.score(test_X, test_y)}\")"
   ]
  },
  {
   "cell_type": "markdown",
   "metadata": {},
   "source": [
    "## 多元线性回归程序示例\n",
    "类似的，我们也可以实现多元线性回归。这里，我们需要创建多个特征（x），我们也可以像之前程序那样，随机生成多个特征，不过，这里，我们使用sklearn库提供的更方便的方法。"
   ]
  },
  {
   "cell_type": "code",
   "execution_count": 1,
   "metadata": {},
   "outputs": [
    {
     "name": "stdout",
     "output_type": "stream",
     "text": [
      "实际权重：[41.09157343 40.05104636]\n",
      "权重：[40.73604427 40.46442694]\n",
      "截距：9.674800561121165\n",
      "均方误差：89.70245095954746\n",
      "训练集R^2：0.9719426911451446\n",
      "测试集R^2：0.9711734155220718\n"
     ]
    }
   ],
   "source": [
    "from sklearn.linear_model import LinearRegression\n",
    "from sklearn.metrics import mean_squared_error\n",
    "from sklearn.model_selection import train_test_split\n",
    "from sklearn.datasets import make_regression\n",
    "import numpy as np\n",
    "# 生成线性回归的样本数据。\n",
    "X, y, coef = make_regression(n_samples=1000, n_features=2, coef=True, bias=10, random_state=0, noise=10)\n",
    "train_X, test_X, train_y, test_y = train_test_split(X, y)\n",
    "print(f\"实际权重：{coef}\")\n",
    "lr = LinearRegression()\n",
    "lr.fit(train_X, train_y)\n",
    "print(f\"权重：{lr.coef_}\")\n",
    "print(f\"截距：{lr.intercept_}\")\n",
    "result = lr.predict(test_X)\n",
    "print(f\"均方误差：{mean_squared_error(result, test_y)}\")\n",
    "print(f\"训练集R^2：{lr.score(train_X, train_y)}\")\n",
    "print(f\"测试集R^2：{lr.score(test_X, test_y)}\")"
   ]
  },
  {
   "cell_type": "code",
   "execution_count": 8,
   "metadata": {},
   "outputs": [],
   "source": [
    "from sklearn.datasets import make_regression\n",
    "?make_regression"
   ]
  },
  {
   "cell_type": "code",
   "execution_count": 3,
   "metadata": {},
   "outputs": [],
   "source": [
    "# 进行可视化展示。\n",
    "import numpy as np\n",
    "import matplotlib as mpl\n",
    "import matplotlib.pyplot as plt\n",
    "mpl.rcParams[\"font.family\"] = \"SimHei\"\n",
    "mpl.rcParams[\"axes.unicode_minus\"] = False\n",
    "from mpl_toolkits.mplot3d import Axes3D\n",
    "%matplotlib qt\n",
    "\n",
    "max1, max2 = np.max(X, axis=0)\n",
    "min1, min2 = np.min(X, axis=0)\n",
    "x1 = np.linspace(min1, max1, 30)\n",
    "x2 = np.linspace(min2, max2, 30)\n",
    "X1, X2 = np.meshgrid(x1, x2)\n",
    "fig = plt.figure()\n",
    "ax = Axes3D(fig)\n",
    "# 绘制真实的样本散点图。\n",
    "ax.scatter(X[:, 0], X[:, 1], y, color=\"b\")\n",
    "# 绘制预测的平面。\n",
    "surf = ax.plot_surface(X1, X2, lr.predict(np.array([X1.ravel(), X2.ravel()]).T).reshape(X1.shape),\n",
    "        rstride=5, cstride=5, cmap=\"rainbow\", alpha=0.6)\n",
    "# 绘制颜色条\n",
    "fig.colorbar(surf)\n",
    "plt.show()"
   ]
  },
  {
   "cell_type": "code",
   "execution_count": 1,
   "metadata": {},
   "outputs": [],
   "source": [
    "from sklearn.datasets import make_regression\n",
    "?make_regression"
   ]
  },
  {
   "cell_type": "markdown",
   "metadata": {},
   "source": [
    "## 知识补充\n",
    "\n",
    "### 过拟合与欠拟合\n",
    "之前，我们介绍过拟合的概念。拟合指的是构建的模型能够符合样本数据的特征。与拟合相关的两个概念是欠拟合与过拟合。\n",
    "* 欠拟合：模型过于简单，未能充分捕获样本数据的特征。表现为模型在训练集上的效果不好。\n",
    "* 过拟合：模型过于复杂，过分捕获样本数据的特征，从而将样本数据中一些特殊特征当成了共性特征。表现为模型在训练集上的效果非常好，但是在未知数据上的表现效果不好。\n",
    "\n",
    "<img src=\"imgs/05.png\" width=\"600\">"
   ]
  },
  {
   "cell_type": "markdown",
   "metadata": {},
   "source": [
    "### 解决方案\n",
    "如果产生欠拟合，可以采用如下方式，来达到更好的拟合效果。\n",
    "* 增加迭代次数\n",
    "* 增加模型复杂度（例如，引入新的特征）\n",
    "* 通过多项式扩展\n",
    "* 使用更复杂的模型（例如非线性模型）\n",
    "\n",
    "如果产生过拟合，可以采用如下方式，来降低过拟合的程度。\n",
    "* 收集更多的数据\n",
    "* 正则化\n",
    "* 降低模型的复杂度\n",
    "* 减少迭代次数\n",
    "* 选择简单的模型\n",
    "\n",
    "现在，我们来介绍下多项式扩展与正则化。"
   ]
  },
  {
   "cell_type": "markdown",
   "metadata": {},
   "source": [
    "### 多项式扩展\n",
    "我们可以使用线性回归模型来拟合数据，然而，在现实中，数据未必总是线性（或接近线性）的。当数据并非线性时，直接使用 Linear Regression 的效果可能会较差，产生欠拟合。"
   ]
  },
  {
   "cell_type": "code",
   "execution_count": 21,
   "metadata": {},
   "outputs": [
    {
     "name": "stdout",
     "output_type": "stream",
     "text": [
      "0.06907327573166855\n"
     ]
    },
    {
     "data": {
      "text/plain": [
       "<matplotlib.legend.Legend at 0x1eb2d1bfb70>"
      ]
     },
     "execution_count": 21,
     "metadata": {},
     "output_type": "execute_result"
    },
    {
     "data": {
      "image/png": "[encoded data removed]",
      "text/plain": [
       "<Figure size 432x288 with 1 Axes>"
      ]
     },
     "metadata": {
      "needs_background": "light"
     },
     "output_type": "display_data"
    }
   ],
   "source": [
    "import numpy as np\n",
    "import matplotlib as mpl\n",
    "import matplotlib.pyplot as plt\n",
    "from sklearn.linear_model import LinearRegression\n",
    "%matplotlib inline\n",
    "mpl.rcParams[\"font.family\"] = \"SimHei\"\n",
    "mpl.rcParams[\"axes.unicode_minus\"] = False\n",
    "\n",
    "# 创建数据集x。np.newaxis表示新增一个维度，维度值为1。这与之前调用reshape(-1,1)实现同样的效果\n",
    "x = np.linspace(0, 10, 100)[:, np.newaxis]\n",
    "# 创建数据标签y。（非线性的分布）\n",
    "y = x * np.sin(x)\n",
    "lr = LinearRegression()\n",
    "lr.fit(x, y)\n",
    "# r2\n",
    "print(lr.score(x, y))\n",
    "plt.plot(x, y, \"g-\", label=\"真实线\")\n",
    "plt.plot(x, lr.predict(x), \"r-\", label=\"拟合线\")\n",
    "# 生成图例。\n",
    "plt.legend()"
   ]
  },
  {
   "cell_type": "markdown",
   "metadata": {},
   "source": [
    "此时，我们可以尝试使用多项式扩展来进行改进。  \n",
    "多项式扩展，可以认为是对现有数据进行的一种转换，通过将数据映射到更高维度的空间中，该模型就可以拟合更广泛的数据。  \n",
    "假设，我们有如下的二元线性模型：  \n",
    "$\\hat{y} = w_{0} + w_{1}x_{1} + w_{2}x_{2}$  \n",
    "如果该模型的拟合效果不佳，我们就可以对该模型进行多项式扩展。例如，我们进行二项式扩展（也可以进行更高阶的扩展），结果为：  \n",
    "$\\hat{y} = w_0 + w_1 x_1 + w_2 x_2 + w_3 x_1 x_2 + w_4 x_1^2 + w_5 x_2^2$  \n",
    "当进行多项式扩展后，我们就可以认为，模型由以前的直线变成了曲线。从而可以更灵活的去拟合数据。\n",
    "\n",
    "## 多项式拟合\n",
    "经过多项式扩展后，我们依然可以使用之前的线性回归模型去拟合数据。这是因为，我们可以假设：  \n",
    "$z = [x_1, x_2, x_1 x_2, x_1^2, x_2^2]$  \n",
    "这样，之前的模型就会变成：  \n",
    "$\\hat{y} = w_0 + w_1 z_1 + w_2 z_2 + w_3 z_3 + w_4 z_4 + w_5 z_5$  \n",
    "从而，我们依然可以认为，这还是一种线性模型。"
   ]
  },
  {
   "cell_type": "markdown",
   "metadata": {},
   "source": [
    "## 多项式转换规则\n",
    "我们可以使用sklearn中提供的PolynomialFeatures类来实现多项式扩展。\n",
    "* 通过powers_属性可以获取扩展之后每个输入特征的指数矩阵。\n",
    "* powers_\\[i, j\\]表示第i个输出特征中，第j个输入特征的指数值。  \n",
    "例如，如果输入样本的特征数为2，多项式扩展阶数为2，则指数矩阵为：\n",
    "$$powers_ = \\begin{bmatrix}\n",
    "0 & 0\\\\ \n",
    "1 & 0\\\\ \n",
    "0 & 1\\\\ \n",
    "2 & 0\\\\ \n",
    "1 & 1\\\\ \n",
    "0 & 2\n",
    "\\end{bmatrix}$$  \n",
    "多项式转换，其实就是将输入特征转换成输出特征。矩阵的每行对应每个输出特征，每列对应每个输入特征的指数，例如，对于两个输入特征$x_1与x_2$来讲，多项式转换之后的值为：  \n",
    "$$[x_1^0x_2^0,\\ x_1^1x_2^0,\\ x_1^0x_2^1,\\ x_1^2x_2^0,\\ x_1^1x_2^1,\\ x_1^0x_2^2]$$ \n",
    "即：  \n",
    "$$[1,\\ x_1,\\ x_2,\\ x_1^2,\\ x_1 x_2,\\ x_2^2]$$"
   ]
  },
  {
   "cell_type": "code",
   "execution_count": 4,
   "metadata": {},
   "outputs": [
    {
     "name": "stdout",
     "output_type": "stream",
     "text": [
      "转换之后的结果：\n",
      "[[ 1.  1.  2.  1.  2.  4.]\n",
      " [ 1.  3.  4.  9. 12. 16.]]\n",
      "指数矩阵：\n",
      "[[0 0]\n",
      " [1 0]\n",
      " [0 1]\n",
      " [2 0]\n",
      " [1 1]\n",
      " [0 2]]\n",
      "输入的特征数量：2\n",
      "输出的特征数量：6\n",
      "1\t1\t2\t1\t2\t4\t\n",
      "1\t3\t4\t9\t12\t16\t\n"
     ]
    }
   ],
   "source": [
    "import numpy as np\n",
    "# 多项式扩展类。可以进行多项式转换。\n",
    "from sklearn.preprocessing import PolynomialFeatures\n",
    "\n",
    "# X = np.array([[1, 2, 3], [3, 4, 5]])\n",
    "X = np.array([[1, 2], [3, 4]])\n",
    "# 参数指定扩展的阶数。这里进行二阶扩展。\n",
    "poly = PolynomialFeatures(2)\n",
    "# 对输入数据进行转换。\n",
    "# poly.fit(X)\n",
    "# poly.transform(X)\n",
    "# 相当于调用fit之后，再调用transform。\n",
    "r = poly.fit_transform(X)\n",
    "print(\"转换之后的结果：\")\n",
    "print(r)\n",
    "print(\"指数矩阵：\")\n",
    "print(poly.powers_)\n",
    "print(f\"输入的特征数量：{poly.n_input_features_}\")\n",
    "print(f\"输出的特征数量：{poly.n_output_features_}\")\n",
    "\n",
    "# 根据poly.powers_计算转换结果。\n",
    "# 遍历样本集中的每一个样本，获取每个特征（这里就是x1，x2）\n",
    "for x1, x2 in X:\n",
    "    # 遍历幂指数矩阵。\n",
    "    for e1, e2 in poly.powers_:\n",
    "        print(x1 ** e1 * x2 ** e2, end=\"\\t\")\n",
    "    print()"
   ]
  },
  {
   "cell_type": "markdown",
   "metadata": {},
   "source": [
    "现在，就让我们对之前的程序来进行多项式扩展，尝试解决欠拟合问题。"
   ]
  },
  {
   "cell_type": "code",
   "execution_count": 2,
   "metadata": {},
   "outputs": [
    {
     "data": {
      "image/png": "[encoded data removed]",
      "text/plain": [
       "<Figure size 1296x720 with 6 Axes>"
      ]
     },
     "metadata": {
      "needs_background": "light"
     },
     "output_type": "display_data"
    }
   ],
   "source": [
    "import numpy as np\n",
    "import matplotlib as mpl\n",
    "import matplotlib.pyplot as plt\n",
    "from sklearn.linear_model import LinearRegression\n",
    "from sklearn.preprocessing import PolynomialFeatures\n",
    "\n",
    "mpl.rcParams[\"font.family\"] = \"SimHei\"\n",
    "mpl.rcParams[\"axes.unicode_minus\"] = False\n",
    "\n",
    "x = np.linspace(0, 10, 100)[:, np.newaxis]\n",
    "y = x * np.sin(x)\n",
    "# 创建绘图子区域（参数：行数与列数）\n",
    "# ax 绘图对象数组。每个元素为一个自绘图区域对象。\n",
    "figure, ax = plt.subplots(2, 3)\n",
    "# 设置画布的大小。（宽度与高度），单位：英寸。\n",
    "figure.set_size_inches(18, 10)\n",
    "# 将二维数组进行扁平化，方便在for循环中使用。\n",
    "ax = ax.ravel()\n",
    "\n",
    "# range 产生从起始点到终止点的序列。包含起始点，不包含终止点。\n",
    "for n in range(1, 7):\n",
    "    poly = PolynomialFeatures(degree=n)\n",
    "    tran_x = poly.fit_transform(x)\n",
    "    lr = LinearRegression()\n",
    "    # 使用多项式转换之后的特征进行拟合（训练）\n",
    "    lr.fit(tran_x, y)\n",
    "    # 设置绘图标题。\n",
    "    ax[n - 1].set_title(f\"{n}阶，拟合度：{lr.score(tran_x, y):.3f}\")\n",
    "    ax[n - 1].plot(x, x * np.sin(x), \"g-\", label=\"真实线\")\n",
    "    ax[n - 1].plot(x, lr.predict(tran_x), \"r-\", label=\"拟合线\")\n",
    "    ax[n - 1].legend()\n"
   ]
  },
  {
   "cell_type": "markdown",
   "metadata": {},
   "source": [
    "## 正则化\n",
    "在线性回归中，模型过于复杂，通常表现为模型的参数过大（指绝对值过大），即如果模型的参数过大，就容易出现过拟合现象。我们可以通过正则化来降低过拟合的程度。正则化，就是通过在损失函数中加入关于权重的惩罚项，进而限制模型的参数过大，从而减低过拟合，增加的惩罚项，我们也称作正则项。  \n",
    "根据正则项的不同，我们可以将正则化分为如下几种：\n",
    "* L2正则化\n",
    "* L1正则化\n",
    "* Elastic Net\n",
    "\n",
    "### L2正则化\n",
    "L2正则化是最常使用的正则化，将所有权重的平方和作为正则项。使用L2正则的线性回归模型称为<span style=\"color:red\">Ridge回归（岭回归）</span>。加入L2正则化的损失函数为：  \n",
    "<font size=3>$$J(w) = \\frac{1}{2}\\sum_{i=1}^{m}(y ^ {(i)} - \\hat{y} ^ {(i)}) ^ 2 + \\alpha \\sum_{j=1}^{n}w_{j} ^ {2}$$</font>\n",
    "\n",
    "从包含正则项的损失函数中，我们可以发现，我们将损失函数分为两部分，一部分为原来的损失函数，另外一部分为正则项的惩罚，这样，如果当权重过大时，即使原来的损失函数值很小，但是整个项的损失值会很多，因此，整个损失值（二者的和）也不会很小，从而，权重过大的w就可能不会成为最佳解。  \n",
    "### L1正则化\n",
    "L1正则化使用所有权重的绝对值和作为正则项。使用L1正则的线性回归模型称为<span style=\"color:red\">LASSO回归（Least Absolute Shrinkage and Selection Operator——最小绝对值收缩与选择因子）</span>。  \n",
    "<font size=3>$$J(w) = \\frac{1}{2}\\sum_{i=1}^{m}(y ^ {(i)} - \\hat{y} ^ {(i)}) ^ 2 + \\alpha \\sum_{j=1}^{n}|w_{j}|$$</font>\n",
    "\n",
    "### Elastic Net\n",
    "Elastic Net（弹性网络），同时将绝对值和与平方和作为正则项，是L1正则化与L2正则化之间的一个折中。使用该正则项的线性回归模型称为<span style=\"color:red\">Elastic Net</span>算法。  \n",
    "<font size=3>\n",
    "$$J(w) = \\frac{1}{2}\\sum_{i=1}^{m}(y ^ {(i)} - \\hat{y} ^ {(i)}) ^ 2 + \\alpha(p\\sum_{j=1}^{n}|w_{j}| + (1 - p)\\sum_{j=1}^{n}w_{j} ^ {2})$$\n",
    "</font>  \n",
    "\n",
    "<font face=\"楷体\" size=3>  \n",
    "说明：以上假设样本数量为m，特征数量为n。$\\alpha > 0$并且$0 \\leq p \\leq 1$\n",
    "</font>"
   ]
  },
  {
   "cell_type": "code",
   "execution_count": 3,
   "metadata": {},
   "outputs": [
    {
     "data": {
      "text/plain": [
       "(0.025118864315095822,\n",
       " 3.9810717055349695e-11,\n",
       " -198.10222658699666,\n",
       " 296.5051902131072)"
      ]
     },
     "execution_count": 3,
     "metadata": {},
     "output_type": "execute_result"
    },
    {
     "data": {
      "image/png": "[encoded data removed]",
      "text/plain": [
       "<Figure size 720x360 with 1 Axes>"
      ]
     },
     "metadata": {
      "needs_background": "light"
     },
     "output_type": "display_data"
    }
   ],
   "source": [
    "import numpy as np\n",
    "import matplotlib as mpl\n",
    "import matplotlib.pyplot as plt\n",
    "from sklearn.linear_model import Ridge\n",
    "mpl.rcParams[\"font.family\"] = \"serif\"\n",
    "mpl.rcParams[\"axes.unicode_minus\"] = False\n",
    "\n",
    "# 希尔伯特矩阵  A(i,j)=1/(i+j-1)\n",
    "X = 1. / (np.arange(1, 11) + np.arange(0, 10)[:, np.newaxis])\n",
    "\n",
    "# 生成全是1的数组。参数指定数组元素的个数。\n",
    "y = np.ones(10)\n",
    "\n",
    "n = 200\n",
    "# 返回等比数列。\n",
    "alphas = np.logspace(-10, -2, n)\n",
    "coefs = []\n",
    "for a in alphas:\n",
    "    # 岭回归，alpha参数指定就是惩罚力度。\n",
    "    ridge = Ridge(alpha=a, fit_intercept=False)\n",
    "    ridge.fit(X, y)\n",
    "    coefs.append(ridge.coef_)\n",
    "\n",
    "# 绘制图像\n",
    "# 设置画布的大小。\n",
    "plt.figure(figsize=(10, 5))\n",
    "\n",
    "# gca  get current axes 获取当前的绘图对象。\n",
    "ax = plt.gca()\n",
    "ax.plot(alphas, coefs)\n",
    "\n",
    "# 设置x轴的比例。（对数）\n",
    "ax.set_xscale('log')\n",
    "\n",
    "# 设置x轴的范围。将坐标轴逆序。\n",
    "ax.set_xlim(ax.get_xlim()[::-1])\n",
    "\n",
    "# 设置x轴的标签。\n",
    "plt.xlabel('alpha')\n",
    "\n",
    "# 设置y轴的标签。\n",
    "plt.ylabel('weights')\n",
    "\n",
    "# 紧凑显示。\n",
    "plt.axis('tight')"
   ]
  },
  {
   "cell_type": "markdown",
   "metadata": {},
   "source": [
    "## 模型持久化\n",
    "当我们训练好模型后，就可以使用模型进行预测。然而，这毕竟不像打印一个Hello World那样简单，当我们需要的时候，重新运行一次就可以了。在实际生产环境中，数据集可能非常庞大，如果在我们每次需要使用该模型时，都去重新运行程序，势必会耗费大量的时间。  \n",
    "为了方便以后能够复用，我们可以将模型保存，在需要的时候，直接加载之前保存的模型，就可以直接进行预测。其实，保存模型，就是保存模型的参数，在载入模型的时候，将参数恢复成模型保存时的参数而已。\n",
    "\n",
    "### 保存模型    "
   ]
  },
  {
   "cell_type": "code",
   "execution_count": 4,
   "metadata": {},
   "outputs": [
    {
     "data": {
      "text/plain": [
       "['lr.model']"
      ]
     },
     "execution_count": 4,
     "metadata": {},
     "output_type": "execute_result"
    }
   ],
   "source": [
    "from sklearn.datasets import load_diabetes\n",
    "from sklearn.model_selection import train_test_split\n",
    "from sklearn.linear_model import LinearRegression\n",
    "from sklearn.metrics import mean_squared_error\n",
    "from sklearn.externals import joblib\n",
    "\n",
    "X, y = load_diabetes(return_X_y=True)\n",
    "train_X, test_X, train_y, test_y = train_test_split(X, y, test_size=0.25, random_state=0)\n",
    "lr = LinearRegression()\n",
    "lr.fit(train_X, train_y)\n",
    "# 对模型进行保存。\n",
    "joblib.dump(lr, \"lr.model\")"
   ]
  },
  {
   "cell_type": "markdown",
   "metadata": {},
   "source": [
    "### 载入模型\n",
    "我们可以载入之前保存的模型，进行预测。"
   ]
  },
  {
   "cell_type": "code",
   "execution_count": 5,
   "metadata": {},
   "outputs": [
    {
     "name": "stdout",
     "output_type": "stream",
     "text": [
      "<class 'sklearn.linear_model.base.LinearRegression'>\n",
      "[241.84730258 250.12303941 164.96456549 119.11639346 188.23120303\n",
      " 260.56079379 113.07583812 190.54117538 151.8883747  236.50848375\n",
      " 168.76844138 180.52719713 109.16037049  90.20148392 244.73990469\n",
      "  90.58113696 152.51268196  66.97735025  98.0467335  215.39557064\n",
      " 197.70737206 160.9176914  162.88584001 158.25373793 202.44823294\n",
      " 168.46663088 119.87243699  83.05669211 189.9839726  163.02279586\n",
      " 177.07828326  82.6702699  144.53204953 146.07901596 141.73841253\n",
      " 195.18658206 164.18043648 189.14768927 128.13330927 206.12996392\n",
      "  82.64273523 164.94912645 144.46057692 182.0519825  178.41355601\n",
      "  72.5504089  142.69750371 140.43671531 121.75256103 233.70553551\n",
      " 162.07809758  76.90270416 155.68916375 156.64052259 238.11357481\n",
      " 175.75735587 190.82555855 119.48230582 131.3142863  172.2453037\n",
      " 214.44479397 171.30900357 156.69146772 110.9755974  257.79427463\n",
      " 154.6473623   81.10560078 227.26610365 205.445138    46.92383044\n",
      "  78.28098211 131.5335209  105.63850688 145.15896592 133.85511669\n",
      " 189.31799802  99.29573544 202.16752252 221.67724342 189.36681415\n",
      " 150.25345002 208.85311584  48.03404661 206.61925845  76.63162703\n",
      "  92.70630395 148.19321808 194.60105182 133.07986975 148.57002105\n",
      "  97.51272455 124.56889921  82.48851826 151.41937342 124.81463753\n",
      " 105.29002279 236.2130895  227.49222218 128.37518135 164.29601063\n",
      " 193.35752892 111.83831907 204.3691      84.7480368  217.70082325\n",
      " 113.6130274  221.22851097 267.69707418 115.62235754 113.98308423\n",
      " 195.01301149]\n"
     ]
    }
   ],
   "source": [
    "model = joblib.load(\"lr.model\")\n",
    "print(type(model))\n",
    "print(model.predict(test_X))"
   ]
  }
 ],
 "metadata": {
  "kernelspec": {
   "display_name": "Python 3",
   "language": "python",
   "name": "python3"
  },
  "language_info": {
   "codemirror_mode": {
    "name": "ipython",
    "version": 3
   },
   "file_extension": ".py",
   "mimetype": "text/x-python",
   "name": "python",
   "nbconvert_exporter": "python",
   "pygments_lexer": "ipython3",
   "version": "3.7.0"
  }
 },
 "nbformat": 4,
 "nbformat_minor": 2
}
