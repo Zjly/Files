{
 "cells": [
  {
   "cell_type": "markdown",
   "metadata": {},
   "source": [
    "# 支持向量机"
   ]
  },
  {
   "cell_type": "markdown",
   "metadata": {},
   "source": [
    "## 简介\n",
    "支持向量机（Support Vector Machine, SVM）在1995年正式发表，在针对中小型数据规模的分类任务上有着卓越的效果，同时有着完整的理论证明，在20世纪末的几年和21世纪初的10年完胜神经网络。这个算法把神经网络按在地上摩擦了大概15年的时间，直到深度学习的兴起。但即便这样，现在SVM算法依旧被广泛的使用。 \n",
    "它是一类按监督学习（supervised learning）方式对数据进行二分类的模型。它的目的是寻找一个超平面来对样本进行分割，分割的原则是<span style=\"color:red\">间隔最大化</span>。\n",
    "\n",
    "### 支持向量机的三种情况\n",
    "* 线性可分（硬间隔）\n",
    "* 近似线性可分（软间隔）\n",
    "* 非线性可分（软间隔+核函数）\n",
    "\n",
    "## 线性可分支持向量机\n",
    "\n",
    "### 重要概念\n",
    "* 支持向量\n",
    "* 分割面\n",
    "* 间隔\n",
    "\n",
    "我们看一个简单的二维空间的例子，实心代表正类，空心代表负类，样本是线性可分的，但是很显然不只有这一条直线可以将样本分开，而是有无数条，我们所说的线性可分支持向量机就对应着能将数据正确划分并且间隔最大的直线，如果维数变高，那么这条直线就表现为一个超平面。\n",
    "<img src=\"imgs/svm1.png\" width=\"350\">\n"
   ]
  },
  {
   "cell_type": "markdown",
   "metadata": {},
   "source": [
    "\n",
    "当 $f(x)=w^Tx+b=0$ 时，叫做**分割面**。其中 $w$ 为法向量，决定了超平面的方向， $b$ 为位移量，决定了超平面与原点的距离。虚线上的点，即样本里距离分割面最近的点就叫做**支持向量**，两条虚线之间的距离叫做**间隔**。$f(x)\\geq1$时，我们认为是正类，$f(x)\\leq-1$时，我们认为时负类。1 ，-1 只是一个标签，为方便计算而已。<br>\n",
    " \n",
    "**间隔的计算**：<br>\n",
    "\n",
    "根据几何里点 $(x_0,y_0,z_0)$ 到平面 $ax+by+cz+d=0$ 的距离公式\n",
    "\n",
    "$$ d = \\frac{ |ax_0+by_0+cz_0+d| }{\\sqrt {a^2+b^2+c^2}}$$\n",
    "所以任意一条虚线上的点到分割面的距离：\n",
    "$$ d = \\frac{ |w^Tx+b| }{\\sqrt {w_1^2+w_2^2+w_3^2+……}}=\\frac{ 1 }{||w||}$$\n",
    "所以，间隔就是 <font size=\"4\">$\\frac {2}{||w||}$。</font>\n",
    "    \n",
    "<font size=\"1\">注：$||w||$是向量$w$的L2范数,计算公式为\n",
    "$$    ||w||=\\sqrt[]{\\sum_{i=1}^nw_i^2}$$\n",
    "</font>"
   ]
  },
  {
   "cell_type": "markdown",
   "metadata": {},
   "source": [
    "### 参数求解\n",
    "现在，我们求得了间隔，SVM的思想是使得间隔最大化，也就是：\n",
    "\n",
    "$$max\\:\\:\\frac{2}{||w||}，s.t.\\: y_i(w^Tx_i+b)\\geq1，i=1,2,...,n$$\n",
    "这就等价于\n",
    "$$min\\:\\:\\frac{1}{2}||w||^2，s.t.\\: y_i(w^Tx_i+b)\\geq1，i=1,2,...,n$$\n",
    "\n",
    "由此，我们就得到了SVM的基础型。我们可以看到，上面的基本型目标函数是二次的，约束条件是线性的，这是一个凸二次规划问题，可以直接用现成的优化计算包求解。但这种带约束条件的问题，我们还有另外的更高效的解决方法。\n",
    ">线性规划：目标函数和约束条件都为变量的线性函数<br> \n",
    "二次规划：目标函数为变量的二次函数和约束条件为变量的线性函数<br> \n",
    "非线性规划：目标函数和约束条件都为非线性函数<br>\n",
    "注意：上式里对应的变量为$w$"
   ]
  },
  {
   "cell_type": "markdown",
   "metadata": {},
   "source": [
    "### 高数复习\n",
    "##### 拉格朗日乘数法\n",
    "要找函数 $z=f(x,y)$ 在附加条件 $\\varphi(x,y)=0$ 下的可能极值点，可以先作拉格朗日函数\n",
    "\n",
    "$$L(x,y)=f(x,y)+\\lambda \\varphi(x,y)$$\n",
    "\n",
    "其中 $\\lambda$ 为参数，分别对 $x,y,\\lambda$ 求一阶偏导数，并令其为 0：\n",
    "\n",
    "$$\n",
    "\\left\\{\\begin{matrix}\n",
    "f_x(x,y)+\\lambda \\varphi_x(x,y)=0 \\\\ \n",
    "f_y(x,y)+\\lambda \\varphi_y(x,y)=0 \\\\\n",
    "\\varphi(x,y)=0\n",
    "\\end{matrix}\\right.\n",
    "$$\n",
    "\n",
    "由这组方程就可以解出 $x,y,\\lambda$。这样得到 $(x,y)$ 就是在条件 $\\varphi(x,y)=0$ 下的可能极值点。\n",
    ">例：如何将 12 分解成 3 个正数 $x,y,z$ 之和，使得 $u=x^3y^2z$ 值最大？<br><br>\n",
    "解：令 $L(x,y,z)=x^3y^2z+\\lambda(x+y+z-12)$，则有：<br><br>\n",
    "$$\n",
    "\\left\\{\\begin{matrix}\n",
    "L^{'}_x=3x^2y^2z+\\lambda=0 \\\\ \n",
    "L^{'}_y=2yx^3z+\\lambda=0 \\\\\n",
    "L^{'}_z=x^3y^2+\\lambda=0 \\\\\n",
    "L^{'}_{\\lambda}=x+y+z-12=0\n",
    "\\end{matrix}\\right.\n",
    "\\Rightarrow\n",
    "\\left\\{\\begin{matrix}x=6 \\\\ y=4\\\\z=2\\end{matrix}\\right.$$\n",
    "所以，$u_{max}=6912$\n",
    "\n",
    "拉格朗日乘数法解决了条件为等式约束时的问题，那么不等式约束呢？"
   ]
  },
  {
   "cell_type": "markdown",
   "metadata": {},
   "source": [
    "##### 广义拉格朗日乘数法\n",
    "设目标函数 $f(x)$，不等式约束为 $g(x)$ ,等式约束条件 $h(x)$，此时优化问题描述如下：\n",
    "\n",
    "$$\\begin{align}\n",
    "min\\:\\:&f(x) \\\\\n",
    "s.t.\\:\\:&g_i(x)\\leq0\\:\\:i=1,2,...,p\\\\\n",
    "&h_j(x)=0\\:\\:j=1,2,...,q\n",
    "\\end{align}$$\n",
    "此时，拉格朗日函数为：\n",
    "$$L(x,\\lambda,\\mu)=f(x)+\\sum_{i=1}^p\\lambda_ig_i(x)+\\sum_{j=1}^q\\mu_jh_j(x)$$\n",
    "广义的拉格朗日函数要有最优解，须满足 **KKT（Karush-Kuhn-Tucher）条件**：\n",
    "\n",
    "$$\\left\\{\\begin{matrix}\n",
    "g_i(x)\\leq0\\\\\n",
    "h_j(x)=0\\\\\n",
    "\\lambda_i\\geq0\\\\\n",
    "\\lambda_ig_i(x)=0\\\\\n",
    "\\triangledown{L(x,\\lambda,\\mu)}=0\n",
    "\\end{matrix}\\right.$$\n",
    "现在对比我们的最大间隔问题：\n",
    "$$min\\:\\:\\:\\frac{1}{2}||w||^2，s.t.\\: y_i(w^Tx_i+b)\\geq1，i=1,2,...,n$$\n",
    "所以，拉格朗日函数为：\n",
    "$$L(w,b,\\alpha)=\\frac{1}{2}||w||^2+\\sum_{i=1}^n\\alpha_i(1-y_i(w^Tx_i+b))\\tag{1}$$\n",
    "$$\\begin{align}\n",
    "s.t.\\:\\:&\\alpha_i\\geq0\\\\\n",
    "&(1-y_i(w^Tx_i+b))\\leq0\\\\\n",
    "&\\alpha_i(1-y_i(w^Tx_i+b))=0\n",
    "\\end{align}$$\n",
    "\n",
    "分别对式（1）的$w,b$求偏导，并令其为0：\n",
    "\n",
    "$$\\left\\{\\begin{matrix}\n",
    "\\frac{\\partial{L}}{\\partial{w}}=w-\\sum\\limits_{i=1}^n\\alpha_iy_ix_i=0\\\\\n",
    "\\frac{\\partial{L}}{\\partial{b}}=-\\sum\\limits_{i=1}^n\\alpha_iy_i=0\n",
    "\\end{matrix}\\right.\n",
    "\\Rightarrow\n",
    "\\left\\{\\begin{matrix}\n",
    "w=\\sum\\limits_{i=1}^n\\alpha_iy_ix_i \\\\\n",
    "\\sum\\limits_{i=1}^n\\alpha_iy_i=0 \n",
    "\\end{matrix}\\right.\\tag{2}$$\n",
    "\n",
    "将式（2）代入式（1）,就得到拉格朗日对偶函数：\n",
    "\n",
    "$$\n",
    "L(w,b,\\alpha)=\\sum\\limits_{i=1}^n\\alpha_i-\\frac{1}{2}\\sum\\limits_{i=1,j=1}^na_ia_jy_iy_jx_i^Tx_j\n",
    "$$\n",
    "\n",
    "原关于 $w,b$ 的 min 问题就转化为关于 $\\alpha$ 的 max 问题：\n",
    "$$\n",
    "max\\:\\:\\sum\\limits_{i=1}^n\\alpha_i-\\frac{1}{2}\\sum\\limits_{i=1,j=1}^na_ia_jy_iy_jx_i^Tx_j\\\\\n",
    "s.t.\\:\\:\\sum\\limits_{i=1}^n\\alpha_iy_i=0，a_i\\geq0，i=1,2,...,n\n",
    "$$\n",
    "\n",
    "到这里，我们就可以用序列最小优化算法（Sequential Minimal Optimization, SMO）来计算出 $\\alpha$，再代入式（2），即可得到 $w,b$ 进而得到分割面的模型 $y=w^Tx+b$"
   ]
  },
  {
   "cell_type": "markdown",
   "metadata": {},
   "source": [
    "## 近似线性可分支持向量机\n",
    "在前面的讨论中，我们假设训练样本在样本空间或者特征空间中是线性可分的，但在现实任务中训练集往往很难满足在特征空间中线性可分。线性不可分意味着某些样本点$（x_i,y_i）$不能满足约束条件。为解决这一问题，可以对每个样本点引入一个**松弛变量** $\\xi$ ，满足约束条件的样本 $\\xi$=0 ,而对违反约束规则的样本 $\\xi$>0。\n",
    "<img src=\"imgs/svm2.png\" width=\"500\">\n",
    "这样约束条件变为：\n",
    "$$y_i(w^Tx_i+b)\\geq1-\\xi_i$$\n",
    "目标函数则变为：\n",
    "$$min\\:\\:\\:\\frac{1}{2}||w||^2+C\\sum_{i=1}^n\\xi_i\\\\s.t.\\:\\:\\:y_i(w^Tx_i+b)\\geq1-\\xi_i，\\xi_i\\geq0，i=1,2,...,n$$\n",
    "\n",
    "\n",
    "上面的参数 C 被称之为**惩罚因子**,是人为指定的已知量，表示对误分类的惩罚力度。 C 的值越大，对误分类的惩罚越大，对训练集测试时准确率越高，但泛化能力越弱，值越小，对误分类的惩罚减小，允许容错，泛化能力越强。当 C$\\rightarrow\\infty$时，间隔就由软间隔（soft margin）变为了硬间隔（hard margin）。\n",
    "<img src=\"imgs/svm3.png\" width=\"500\">\n",
    "### 软分类间隔问题的求解\n",
    "拉格朗日函数：\n",
    "$$\n",
    "L(w,b,\\xi,\\alpha,\\mu)=\\frac{1}{2}||w||^2+C\\sum_{i=1}^n\\xi_i+\\sum_{i=1}^n\\alpha_i(1-\\xi_i-y_i(w^Tx+b))-\\sum_{i=1}^n\\mu_i\\xi_i\n",
    "\\tag{3}$$\n",
    "\n",
    "根据KKT条件：\n",
    "$$\\left\\{\\begin{matrix}\n",
    "\\frac{\\partial{L}}{\\partial{w}}=w-\\sum\\limits_{i=1}^n\\alpha_iy_ix_i=0\\\\\n",
    "\\frac{\\partial{L}}{\\partial{b}}=-\\sum\\limits_{i=1}^n\\alpha_iy_i=0\\\\\n",
    "\\frac{\\partial{L}}{\\partial{\\xi}}=C-\\alpha_i-\\mu_i=0\\\\\n",
    "\\end{matrix}\\right.\\tag{4}$$\n",
    "\n",
    "将式（4）代入式（3），得到拉格朗日对偶函数：\n",
    "\n",
    "$$\n",
    "L(w,b,\\xi,\\alpha,\\mu)=\\sum\\limits_{i=1}^n\\alpha_i-\\frac{1}{2}\\sum\\limits_{i=1,j=1}^na_ia_jy_iy_jx_i^Tx_j\n",
    "$$\n",
    "\n",
    "原关于 $w,b,\\xi$ 的 min 问题就转化为关于 $\\alpha$ 的 max 问题：\n",
    "\n",
    "$$\n",
    "max\\:\\:\\sum\\limits_{i=1}^n\\alpha_i-\\frac{1}{2}\\sum\\limits_{i=1,j=1}^na_ia_jy_iy_jx_i^Tx_j\\\\\n",
    "s.t.\\:\\:\\sum\\limits_{i=1}^n\\alpha_iy_i=0，C-a_i-\\mu_i=0，a_i\\geq0，\\mu_i\\geq0，i=1,2,...,n\n",
    "$$\n",
    "上面约束条件合并在一起就是\n",
    "$$s.t.\\:\\:\\sum\\limits_{i=1}^n\\alpha_iy_i=0，0\\leq{a_i}\\leq{C}，i=1,2,...,n\n",
    "$$"
   ]
  },
  {
   "cell_type": "markdown",
   "metadata": {},
   "source": [
    "## 非线性可分支持向量机\n",
    "在上文中，我们已经了解到了SVM处理线性可分和近似线性可分的情况，而对于非线性的情况怎么办呢？\n",
    "<img src=\"imgs/svm4.png\" width=\"600\">\n",
    "\n",
    "我们能想到的办法就是从低维转化到高维空间，比如之前介绍过的多项式扩展。假如我们用 $\\phi(x)$ 表示将 $x$ 映射到高维空间的函数，那么最后我们可以得到的最优解问题为：\n",
    "\n",
    "$$\n",
    "max\\:\\:\\sum\\limits_{i=1}^n\\alpha_i-\\frac{1}{2}\\sum\\limits_{i=1,j=1}^na_ia_jy_iy_j\\phi(x_i)^T\\phi(x_j)\\\\\n",
    "s.t.\\:\\:\\sum\\limits_{i=1}^n\\alpha_iy_i=0，0\\leq{a_i}\\leq{C}，i=1,2,...,n\n",
    "$$\n",
    "\n",
    "对上式求解会涉及到计算 $\\phi(x_i)^T\\phi(x_j$ 的内积，由于特征空间的维度通常很高，所以直接计算内积十分困难，**核函数**就闪亮登场了:\n",
    "* 核函数是一个二元函数，用来代替从低维空间映射到高维空间的内积运算\n",
    "* 符号为 $\\kappa(x_i,x_j)$\n",
    "* 物理含义是衡量两个向量的相似性\n",
    "* 核函数的引入避免了“维数灾难”，大大减小了计算量。而输入空间的维数n对核函数矩阵无影响，因此，核函数方法可以有效处理高维输入\n",
    "* 常用核函数：\n",
    "    + 线性核（linear kernel，linear）：<br>\n",
    "        $\\kappa(x_i,x_j)=x_i^Tx_j$\n",
    "    + 多项式核（polynomial kernel，poly）:<br>\n",
    "        $\\kappa(x_i,x_j)=(\\gamma{x}_i^Tx_j)^d，\\gamma>0，d$ 是多项式系数\n",
    "    + 高斯核，又叫径向基函数（radial basis function，rbf）：<br>\n",
    "        $\\kappa(x_i,x_j)=exp(-\\frac{|x_i-x_j||^2}{\\gamma})，\\gamma>0$\n",
    "    + Sigmoid核（sigmoid）：<br>\n",
    "        $\\kappa(x_i,x_j)=tanh(\\gamma{x_i}^Tx_j+\\theta)，\\gamma>0，\\theta>0$\n",
    "        \n",
    "引入核函数后，优化问题为：\n",
    "\n",
    "$$\n",
    "max\\:\\:\\sum\\limits_{i=1}^n\\alpha_i-\\frac{1}{2}\\sum\\limits_{i=1,j=1}^na_ia_jy_iy_j\\kappa(x_i,x_j)\\\\\n",
    "s.t.\\:\\:\\sum\\limits_{i=1}^n\\alpha_iy_i=0，0\\leq{a_i}\\leq{C}，i=1,2,...,n\n",
    "$$"
   ]
  },
  {
   "cell_type": "markdown",
   "metadata": {},
   "source": [
    "#### 低维到高维示例"
   ]
  },
  {
   "cell_type": "code",
   "execution_count": 2,
   "metadata": {
    "scrolled": true
   },
   "outputs": [
    {
     "data": {
      "image/png": "[encoded data removed]",
      "text/plain": [
       "<Figure size 432x288 with 1 Axes>"
      ]
     },
     "metadata": {
      "needs_background": "light"
     },
     "output_type": "display_data"
    }
   ],
   "source": [
    "import numpy as np\n",
    "import matplotlib.pyplot as plt\n",
    "#解决中文乱码\n",
    "plt.rcParams[\"font.family\"] = \"SimHei\"\n",
    "plt.rcParams[\"axes.unicode_minus\"] = False\n",
    "\n",
    "#%matplotlib inline\n",
    "\n",
    "X=np.linspace(-10, 10, 100)\n",
    "Y=np.linspace(-10, 10, 100)\n",
    "a=[]\n",
    "b=[]\n",
    "for x in X:\n",
    "    for y in Y:\n",
    "        r2 = x**2 + y**2\n",
    "        if r2 >= (8-0.2) ** 2 and r2 <= (8+0.2) ** 2:\n",
    "            a.append([x,y])\n",
    "        elif r2 >= (5-0.2) ** 2 and r2 <= (5+0.2) ** 2:\n",
    "            b.append([x,y])\n",
    "            \n",
    "D1 = np.array(a[::10])\n",
    "D2 = np.array(b[::10])\n",
    "fig = plt.figure()\n",
    "plt.scatter(D1[:,0],D1[:,1])\n",
    "plt.scatter(D2[:,0],D2[:,1])\n",
    "\n",
    "plt.show()"
   ]
  },
  {
   "cell_type": "code",
   "execution_count": 3,
   "metadata": {},
   "outputs": [],
   "source": [
    "from mpl_toolkits.mplot3d import Axes3D\n",
    "import math\n",
    "\n",
    "%matplotlib qt\n",
    "\n",
    "def gauss(x,y):\n",
    "    return x**2+y**2\n",
    "\n",
    "fig = plt.figure()\n",
    "ax = Axes3D(fig)\n",
    "Z=[]\n",
    "X,Y=D1[:,0],D1[:,1]\n",
    "for i in range(len(X)):\n",
    "    Z.append(gauss(X[i],Y[i]))\n",
    "    \n",
    "ax.scatter(X, Y, Z, marker='.', s=200)\n",
    "Z1=[]\n",
    "X,Y=D2[:,0],D2[:,1]\n",
    "for i in range(len(X)):\n",
    "    Z1.append(gauss(X[i],Y[i]))\n",
    "ax.scatter(X, Y, Z1, marker='.', s=200)    \n",
    "plt.show()"
   ]
  },
  {
   "cell_type": "markdown",
   "metadata": {},
   "source": [
    "### SVM的相关算法\n",
    "\n",
    "* 支持向量回归（Support Vector Regression, SVR）\n",
    "* 支持向量分类（Support Vector Classification, SVC）\n",
    "* 支持向量聚类（Support Vector Clustering）"
   ]
  },
  {
   "cell_type": "code",
   "execution_count": 5,
   "metadata": {},
   "outputs": [
    {
     "data": {
      "text/plain": [
       "<matplotlib.collections.PathCollection at 0x26318483828>"
      ]
     },
     "execution_count": 5,
     "metadata": {},
     "output_type": "execute_result"
    },
    {
     "data": {
      "image/png": "[encoded data removed]",
      "text/plain": [
       "<Figure size 432x288 with 1 Axes>"
      ]
     },
     "metadata": {
      "needs_background": "light"
     },
     "output_type": "display_data"
    }
   ],
   "source": [
    "# 导入模块\n",
    "import numpy as np\n",
    "import matplotlib.pyplot as plt\n",
    "from sklearn import svm, datasets\n",
    "% matplotlib inline\n",
    "# 鸢尾花数据\n",
    "iris = datasets.load_iris()\n",
    "X = iris.data[:, :2] # 为便于绘图仅选择2个特征\n",
    "y = iris.target\n",
    "# 测试样本（绘制分类区域）\n",
    "xlist1 = np.linspace(X[:, 0].min(), X[:, 0].max(), 200)\n",
    "xlist2 = np.linspace(X[:, 1].min(), X[:, 1].max(), 200)\n",
    "XGrid1, XGrid2 = np.meshgrid(xlist1, xlist2)\n",
    "# 非线性SVM：RBF核，超参数为0.5，惩罚系数为1，SMO迭代精度1e-5, 内存占用1000MB\n",
    "svc = svm.SVC(kernel='rbf', C=1, gamma=0.5, tol=1e-5, cache_size=1000).fit(X, y)\n",
    "# 预测并绘制结果\n",
    "Z = svc.predict(np.vstack([XGrid1.ravel(), XGrid2.ravel()]).T)\n",
    "Z = Z.reshape(XGrid1.shape)\n",
    "plt.contourf(XGrid1, XGrid2, Z, cmap=plt.cm.hsv)\n",
    "plt.contour(XGrid1, XGrid2, Z, colors=('k',))\n",
    "plt.scatter(X[:, 0], X[:, 1], c=y, edgecolors='k', linewidth=1.5, cmap=plt.cm.hsv)"
   ]
  },
  {
   "cell_type": "code",
   "execution_count": 4,
   "metadata": {},
   "outputs": [],
   "source": [
    "from sklearn import svm\n",
    "?svm.SVC"
   ]
  }
 ],
 "metadata": {
  "kernelspec": {
   "display_name": "Python 3",
   "language": "python",
   "name": "python3"
  },
  "language_info": {
   "codemirror_mode": {
    "name": "ipython",
    "version": 3
   },
   "file_extension": ".py",
   "mimetype": "text/x-python",
   "name": "python",
   "nbconvert_exporter": "python",
   "pygments_lexer": "ipython3",
   "version": "3.7.0"
  }
 },
 "nbformat": 4,
 "nbformat_minor": 2
}
