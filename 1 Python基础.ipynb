{
 "cells": [
  {
   "cell_type": "markdown",
   "metadata": {},
   "source": [
    "## Python历史\n",
    "`Python` 的创始人为荷兰人吉多·范罗苏姆（`Guido van Rossum`）。1989年的圣诞节期间，吉多·范罗苏姆为了在阿姆斯特丹打发时间，决心开发一个新的脚本解释程序，作为 ABC 语言的一种继承。之所以选中 `Python` 作为程序的名字，是因为他是 BBC 电视剧——蒙提·派森的飞行马戏团（`Monty Python's Flying Circus`）的爱好者。\n",
    "\n",
    "1991年，第一个 Python 编译器诞生。它是用C语言实现的，并能够调用C语言的库文件。\n",
    "\n",
    "`Python 2.0` 于 2000 年 10 月 16 日发布，增加了实现完整的垃圾回收，并且支持 `Unicode`。\n",
    "\n",
    "`Python 3.0` 于 2008 年 12 月 3 日发布，此版不完全兼容之前的 `Python` 源代码。不过，很多新特性后来也被移植到旧的 `Python 2.6/2.7` 版本。\n",
    "\n",
    "<span style=\"color:red\">`Python 2.x` 在 2020 年1月1日正式停止官方支持。</span>"
   ]
  },
  {
   "cell_type": "markdown",
   "metadata": {},
   "source": [
    "## Python语言优势\n",
    "\n",
    "* 语言清晰简洁\n",
    "    + 使用缩进控制代码结构\n",
    "    + 高级数据类型：list、tuple、dict 等\n",
    "* 易于操作文本文件\n",
    "* 使用广泛，存在大量的开源库\n",
    "    + NumPy、SciPy、Pandas、Matplotlab 等"
   ]
  },
  {
   "cell_type": "markdown",
   "metadata": {},
   "source": [
    "## Python语法基础\n",
    "推荐学习python的网站1：https://www.liaoxuefeng.com/wiki/0014316089557264a6b348958f449949df42a6d3a2e542c000\n",
    "\n",
    "推荐学习python的网站2：http://www.runoob.com/python3/python3-tutorial.html"
   ]
  },
  {
   "cell_type": "markdown",
   "metadata": {},
   "source": [
    "##### 变量\n",
    "* python 中的变量不需要声明。每个变量在使用前都必须赋值，变量赋值以后该变量才会被创建。\n",
    "* 变量赋值：变量名 = 数据\n",
    "* 变量名以字母或者_开头\n",
    "* 变量名不能是关键字\n",
    "* 可以同时给多个变量赋值"
   ]
  },
  {
   "cell_type": "code",
   "execution_count": 1,
   "metadata": {},
   "outputs": [
    {
     "name": "stdout",
     "output_type": "stream",
     "text": [
      "['False', 'None', 'True', 'and', 'as', 'assert', 'async', 'await', 'break', 'class', 'continue', 'def', 'del', 'elif', 'else', 'except', 'finally', 'for', 'from', 'global', 'if', 'import', 'in', 'is', 'lambda', 'nonlocal', 'not', 'or', 'pass', 'raise', 'return', 'try', 'while', 'with', 'yield']\n"
     ]
    }
   ],
   "source": [
    "# import 关键字导入 keyword 模块\n",
    "import keyword\n",
    "\n",
    "print(keyword.kwlist)\n",
    "    "
   ]
  },
  {
   "cell_type": "code",
   "execution_count": 4,
   "metadata": {},
   "outputs": [],
   "source": [
    "#查看帮助\n",
    "?print"
   ]
  },
  {
   "cell_type": "code",
   "execution_count": 3,
   "metadata": {},
   "outputs": [],
   "source": [
    "def aa():\n",
    "    pass"
   ]
  },
  {
   "cell_type": "code",
   "execution_count": 5,
   "metadata": {},
   "outputs": [
    {
     "name": "stdout",
     "output_type": "stream",
     "text": [
      "100\n",
      "0.98\n",
      "bigdata\n",
      "---------华丽的分割线---------\n",
      "bigdata 0.98 100\n",
      "bigdata 0.98 100\n",
      "a=bigdatab=0.98 c=100\n"
     ]
    }
   ],
   "source": [
    "#给多个变量赋值\n",
    "a,b,c = 100,0.98,\"bigdata\"\n",
    "\n",
    "# print()函数 相当于java里面的System.out.println() scala里面的println()\n",
    "print(a)\n",
    "print(b)\n",
    "print(c)\n",
    "print(\"---------华丽的分割线---------\")\n",
    "\n",
    "#交换2个变量的值\n",
    "a,c=c,a\n",
    "\n",
    "# 如果想不换行输出，则需要在变量末尾指定 end=\"\"，默认是\\n\n",
    "print(a,end=\" \")\n",
    "print(b,end=\" \")\n",
    "print(c,end=\"\\n\")\n",
    "\n",
    "print(a,b,c)\n",
    "print(f\"a={a}b={b} c={c}\")"
   ]
  },
  {
   "cell_type": "markdown",
   "metadata": {},
   "source": [
    "##### 注释\n",
    "* 单行注释 \n",
    "* 多行注释 ''''''或者\"\"\"\"\"\""
   ]
  },
  {
   "cell_type": "code",
   "execution_count": 6,
   "metadata": {},
   "outputs": [
    {
     "name": "stdout",
     "output_type": "stream",
     "text": [
      "Hello, jupyter 1!\n",
      "Hello, jupyter 2!\n",
      "Hello, jupyter 3!\n"
     ]
    }
   ],
   "source": [
    "# 这是一个注释\n",
    "print(\"Hello, jupyter 1!\") \n",
    "'''\n",
    "这是多行注释，用三个单引号\n",
    "这是多行注释，用三个单引号 \n",
    "这是多行注释，用三个单引号\n",
    "'''\n",
    "print(\"Hello, jupyter 2!\") \n",
    "\"\"\"\n",
    "这是多行注释，用三个双引号\n",
    "这是多行注释，用三个双引号 \n",
    "这是多行注释，用三个双引号\n",
    "\"\"\"\n",
    "print(\"Hello, jupyter 3!\") "
   ]
  },
  {
   "cell_type": "markdown",
   "metadata": {},
   "source": [
    "##### 标准数据类型\n",
    "* 数值型\n",
    "    + 整数\n",
    "        - int\n",
    "    + 浮点数\n",
    "        - float\n",
    "        - 小数点 .\n",
    "    + 布尔\n",
    "        - bool\n",
    "        - True or False  对应1和0\n",
    "    + 复数\n",
    "        - complex\n",
    "        - 5+3j\n",
    "* 字符串\n",
    "    + str\n",
    "    + ' '\n",
    "    + \" \"\n",
    "    + ''' '''或者\"\"\" \"\"\"\n",
    "    + 转义 \\   \\n \\t等等\n",
    "* 列表\n",
    "    + list\n",
    "    + \\[1,2,3\\]\n",
    "* 元组\n",
    "    + tuple\n",
    "    + (1,2,3)\n",
    "    + \n",
    "* 字典\n",
    "    + dict\n",
    "    + {k1:v1,k2:v2}\n",
    "* 集合\n",
    "    + set\n",
    "    + {1,2,3}\n",
    "* 空值\n",
    "    + NoneType\n",
    "    + None\n",
    "    "
   ]
  },
  {
   "cell_type": "code",
   "execution_count": 8,
   "metadata": {},
   "outputs": [
    {
     "name": "stdout",
     "output_type": "stream",
     "text": [
      "变量 = 123，类型 = <class 'int'>\n",
      "[123, 0.456, True, (5+3j), '\\n1 2 3\\n            4 5 6\\n    7 8 9\\n', None]\n",
      "变量 = 0.456，类型 = <class 'float'>\n",
      "[123, 0.456, True, (5+3j), '\\n1 2 3\\n            4 5 6\\n    7 8 9\\n', None]\n",
      "变量 = True，类型 = <class 'bool'>\n",
      "[123, 0.456, True, (5+3j), '\\n1 2 3\\n            4 5 6\\n    7 8 9\\n', None]\n",
      "变量 = (5+3j)，类型 = <class 'complex'>\n",
      "[123, 0.456, True, (5+3j), '\\n1 2 3\\n            4 5 6\\n    7 8 9\\n', None]\n",
      "变量 = \n",
      "1 2 3\n",
      "            4 5 6\n",
      "    7 8 9\n",
      "，类型 = <class 'str'>\n",
      "[123, 0.456, True, (5+3j), '\\n1 2 3\\n            4 5 6\\n    7 8 9\\n', None]\n",
      "变量 = None，类型 = <class 'NoneType'>\n",
      "[123, 0.456, True, (5+3j), '\\n1 2 3\\n            4 5 6\\n    7 8 9\\n', None]\n",
      "True\n"
     ]
    }
   ],
   "source": [
    "#数据类型\n",
    "a=123\n",
    "b=.456\n",
    "c=True\n",
    "d=5+3j\n",
    "\n",
    "#多行字符串，保持排版样式，相当于html里面的<pre>标签\n",
    "e=\"\"\"\n",
    "1 2 3\n",
    "            4 5 6\n",
    "    7 8 9\n",
    "\"\"\"\n",
    "f=None\n",
    "\n",
    "g=[a,b,c,d,e,f]\n",
    "\n",
    "for x in g:\n",
    "    print(f\"变量 = {x}，类型 = {type(x)}\")\n",
    "\n",
    "print(g)  #观察不同缩进代码执行效果\n",
    "\n",
    "print(False == 0)"
   ]
  },
  {
   "cell_type": "markdown",
   "metadata": {},
   "source": [
    "##### 运算符\n",
    "* 算数运算符\n",
    "    + <p>+ - * / % ** //</p>\n",
    "* 赋值运算符\n",
    "    + <p>= += -= *= /= %= **= //=</p>\n",
    "* 比较运算符\n",
    "    + <p>== != > < >= <= </p>\n",
    "* 逻辑运算符\n",
    "    + and or not\n",
    "* 位运算符\n",
    "    + & | ^ ~ << >>\n",
    "* 成员运算符\n",
    "    + in  如果在指定的序列中找到值返回 True，否则返回 False\n",
    "    + not in  如果在指定的序列中没有找到值返回 True，否则返回 False"
   ]
  },
  {
   "cell_type": "code",
   "execution_count": 10,
   "metadata": {},
   "outputs": [
    {
     "name": "stdout",
     "output_type": "stream",
     "text": [
      "True\n",
      "1.6666666666666667\n",
      "1\n",
      "16\n",
      "abcabcabcabcabcabcabcabcabcabcabcabcabcabcabcabcabcabcabcabc\n"
     ]
    }
   ],
   "source": [
    "print(\"a\" in \"hello a\")\n",
    "print(5/3)\n",
    "print(5//3)\n",
    "print(2 ** 4)\n",
    "print(\"abc\"*20)"
   ]
  },
  {
   "cell_type": "markdown",
   "metadata": {},
   "source": [
    "##### 分支与循环\n",
    "* 分支语句\n",
    "<pre>\n",
    "if 条件判断1:\n",
    "    执行1\n",
    "elif 条件判断2:\n",
    "    执行2\n",
    "elif 条件判断3:\n",
    "    执行3\n",
    "else:\n",
    "    执行4\n",
    "</pre>\n",
    "* 循环\n",
    "    + for、while\n",
    "    + 都可以带else语句块\n",
    "    + 使用continue跳过当次循环，继续下一次循环\n",
    "    + 使用break跳出循环，但是跳出后不会执行else语句块\n",
    "    \n",
    "<span style=\"color:red;\">注意：每个条件后面要使用冒号!!!</span>\n",
    "    "
   ]
  },
  {
   "cell_type": "code",
   "execution_count": 11,
   "metadata": {},
   "outputs": [
    {
     "name": "stdout",
     "output_type": "stream",
     "text": [
      "0 1 2 3 4 5 6 7 8 9 循环结束了1\n",
      "------华丽的分割线---------\n",
      "0 1 2 4 5 6 "
     ]
    }
   ],
   "source": [
    "\"\"\"\n",
    "range()函数生成一个数列\n",
    "range(stop)\n",
    "range(start, stop[, step])\n",
    "range(5) -> 0,1,2,3,4\n",
    "range(0,4) ->0,1,2,3\n",
    "range(0,10,2) ->0,2,4,6,8\n",
    "\"\"\"\n",
    "for x in range(10):\n",
    "    print(x,end=\" \")\n",
    "else:\n",
    "    print(\"循环结束了1\")\n",
    "print(\"------华丽的分割线---------\")\n",
    "for x in range(10):\n",
    "    if x==7:\n",
    "        break\n",
    "    elif x==3:\n",
    "        continue\n",
    "    print(x,end=\" \")\n",
    "else:\n",
    "    print(\"循环结束了2\")\n"
   ]
  },
  {
   "cell_type": "markdown",
   "metadata": {},
   "source": [
    "##### 练习：打印九九乘法表"
   ]
  },
  {
   "cell_type": "code",
   "execution_count": 16,
   "metadata": {},
   "outputs": [
    {
     "name": "stdout",
     "output_type": "stream",
     "text": [
      "1x1=1\t\n",
      "1x2=2\t2x2=4\t\n",
      "1x3=3\t2x3=6\t3x3=9\t\n",
      "1x4=4\t2x4=8\t3x4=12\t4x4=16\t\n",
      "1x5=5\t2x5=10\t3x5=15\t4x5=20\t5x5=25\t\n",
      "1x6=6\t2x6=12\t3x6=18\t4x6=24\t5x6=30\t6x6=36\t\n",
      "1x7=7\t2x7=14\t3x7=21\t4x7=28\t5x7=35\t6x7=42\t7x7=49\t\n",
      "1x8=8\t2x8=16\t3x8=24\t4x8=32\t5x8=40\t6x8=48\t7x8=56\t8x8=64\t\n",
      "1x9=9\t2x9=18\t3x9=27\t4x9=36\t5x9=45\t6x9=54\t7x9=63\t8x9=72\t9x9=81\t\n"
     ]
    }
   ],
   "source": [
    "##打印九九表\n",
    "for i in range(1,10):\n",
    "    for j in range(1,10):\n",
    "        if j<=i:\n",
    "            print(f\"{j}x{i}={j*i}\",end=\"\\t\")\n",
    "    print()"
   ]
  },
  {
   "cell_type": "markdown",
   "metadata": {},
   "source": [
    "##### 异常处理\n",
    "写代码的时候，出现错误必不可免，即使代码没有问题，也可能遇到别的问题。\n",
    "\n",
    "看下面这段代码：\n",
    "\n",
    "```python \n",
    "import math\n",
    "\n",
    "while True:\n",
    "    text = input('> ')\n",
    "    if text[0] == 'q':\n",
    "        break\n",
    "    x = float(text)\n",
    "    y = math.log10(x)\n",
    "    print(\"log10({0}) = {1}\".format(x, y))\n",
    "```\n",
    "\n",
    "这段代码接收命令行的输入，当输入为数字时，计算它的对数并输出，直到输入值为 `q` 为止。\n",
    "\n",
    "乍看没什么问题，然而当我们输入0或者负数时："
   ]
  },
  {
   "cell_type": "code",
   "execution_count": 2,
   "metadata": {},
   "outputs": [
    {
     "name": "stdout",
     "output_type": "stream",
     "text": [
      "请输入一个数字： 100\n",
      "log10(100.0) = 2.0\n",
      "请输入一个数字： t\n"
     ]
    },
    {
     "ename": "ValueError",
     "evalue": "could not convert string to float: 't'",
     "output_type": "error",
     "traceback": [
      "\u001b[1;31m---------------------------------------------------------------------------\u001b[0m",
      "\u001b[1;31mValueError\u001b[0m                                Traceback (most recent call last)",
      "\u001b[1;32m<ipython-input-2-1bbb05281b7b>\u001b[0m in \u001b[0;36m<module>\u001b[1;34m()\u001b[0m\n\u001b[0;32m      5\u001b[0m     \u001b[1;32mif\u001b[0m \u001b[0mtext\u001b[0m\u001b[1;33m[\u001b[0m\u001b[1;36m0\u001b[0m\u001b[1;33m]\u001b[0m \u001b[1;33m==\u001b[0m \u001b[1;34m'q'\u001b[0m\u001b[1;33m:\u001b[0m\u001b[1;33m\u001b[0m\u001b[0m\n\u001b[0;32m      6\u001b[0m         \u001b[1;32mbreak\u001b[0m\u001b[1;33m\u001b[0m\u001b[0m\n\u001b[1;32m----> 7\u001b[1;33m     \u001b[0mx\u001b[0m \u001b[1;33m=\u001b[0m \u001b[0mfloat\u001b[0m\u001b[1;33m(\u001b[0m\u001b[0mtext\u001b[0m\u001b[1;33m)\u001b[0m\u001b[1;33m\u001b[0m\u001b[0m\n\u001b[0m\u001b[0;32m      8\u001b[0m     \u001b[0my\u001b[0m \u001b[1;33m=\u001b[0m \u001b[0mmath\u001b[0m\u001b[1;33m.\u001b[0m\u001b[0mlog10\u001b[0m\u001b[1;33m(\u001b[0m\u001b[0mx\u001b[0m\u001b[1;33m)\u001b[0m\u001b[1;33m\u001b[0m\u001b[0m\n\u001b[0;32m      9\u001b[0m     \u001b[0mprint\u001b[0m\u001b[1;33m(\u001b[0m\u001b[1;34m\"log10({0}) = {1}\"\u001b[0m\u001b[1;33m.\u001b[0m\u001b[0mformat\u001b[0m\u001b[1;33m(\u001b[0m\u001b[0mx\u001b[0m\u001b[1;33m,\u001b[0m \u001b[0my\u001b[0m\u001b[1;33m)\u001b[0m\u001b[1;33m)\u001b[0m\u001b[1;33m\u001b[0m\u001b[0m\n",
      "\u001b[1;31mValueError\u001b[0m: could not convert string to float: 't'"
     ]
    }
   ],
   "source": [
    "import math\n",
    "\n",
    "while True:\n",
    "    text = input('请输入一个数字： ')\n",
    "    if text[0] == 'q':\n",
    "        break\n",
    "    x = float(text)\n",
    "    y = math.log10(x)\n",
    "    print(\"log10({0}) = {1}\".format(x, y))"
   ]
  },
  {
   "cell_type": "markdown",
   "metadata": {},
   "source": [
    "一旦报错，程序就会停止执行，如果不希望程序停止执行，那么我们可以添加一对 `try & except`\n",
    "\n",
    "一旦 `try` 块中的内容出现了异常，那么 `try` 块后面的内容会被忽略，**Python**会寻找 `except` 里面有没有对应的内容，如果找到，就执行对应的块，没有则抛出这个异常。\n",
    "\n",
    "在上面的例子中，`try` 抛出的是 `ValueError`，`except` 中有对应的内容，所以这个异常被 `except` 捕捉到，程序可以继续执行："
   ]
  },
  {
   "cell_type": "code",
   "execution_count": 3,
   "metadata": {},
   "outputs": [
    {
     "name": "stdout",
     "output_type": "stream",
     "text": [
      "> 100\n",
      "log10(100.0) = 2.0\n",
      "> -100\n",
      "the value must be greater than 0\n",
      "> q\n"
     ]
    }
   ],
   "source": [
    "import math\n",
    "\n",
    "while True:\n",
    "    try:\n",
    "        text = input('> ')\n",
    "        if text[0] == 'q':\n",
    "            break\n",
    "        x = float(text)\n",
    "        y = math.log10(x)\n",
    "        print(\"log10({0}) = {1}\".format(x, y))\n",
    "    except ValueError:\n",
    "        print(\"the value must be greater than 0\")"
   ]
  },
  {
   "cell_type": "markdown",
   "metadata": {},
   "source": [
    "当然，我们可以有多个except"
   ]
  },
  {
   "cell_type": "code",
   "execution_count": 41,
   "metadata": {
    "collapsed": true
   },
   "outputs": [
    {
     "name": "stdout",
     "output_type": "stream",
     "text": [
      "division by zero\n",
      "123456\n"
     ]
    }
   ],
   "source": [
    "try:\n",
    "    a=1/0\n",
    "except ZeroDivisionError as e\n",
    "    print(e)\n",
    "except:\n",
    "    print(\"error\")\n",
    "finally:\n",
    "    print(123456)"
   ]
  },
  {
   "cell_type": "markdown",
   "metadata": {},
   "source": [
    "##### 高级数据类型"
   ]
  },
  {
   "cell_type": "code",
   "execution_count": 4,
   "metadata": {},
   "outputs": [
    {
     "name": "stdout",
     "output_type": "stream",
     "text": [
      "<class 'list'>\n",
      "li lei <class 'str'>\n",
      "han meimei <class 'str'>\n",
      "35 <class 'int'>\n",
      "7.6 <class 'float'>\n",
      "li gang\n",
      "han meimei\n",
      "35\n",
      "7.6\n"
     ]
    }
   ],
   "source": [
    "# 列表list\n",
    "# 特点：中括号、元素可变、元素类型是多样的\n",
    "li=[]\n",
    "print(type(li))\n",
    "li.append(\"li lei\")\n",
    "li.append(\"han meimei\")\n",
    "li.append(35)\n",
    "li.append(7.6)\n",
    "\n",
    "# li = [\"li lei\",\"han meimei\",35,7.6]\n",
    "\n",
    "for x in li:\n",
    "    print(x,type(x)) \n",
    "    \n",
    "li[0] = \"li gang\" \n",
    "\n",
    "for i in range(len(li)):\n",
    "    print(li[i])"
   ]
  },
  {
   "cell_type": "code",
   "execution_count": 5,
   "metadata": {},
   "outputs": [
    {
     "name": "stdout",
     "output_type": "stream",
     "text": [
      "<class 'tuple'>\n",
      "li lei\n",
      "han meimei\n",
      "35\n",
      "7.6\n"
     ]
    },
    {
     "ename": "TypeError",
     "evalue": "'tuple' object does not support item assignment",
     "output_type": "error",
     "traceback": [
      "\u001b[1;31m---------------------------------------------------------------------------\u001b[0m",
      "\u001b[1;31mTypeError\u001b[0m                                 Traceback (most recent call last)",
      "\u001b[1;32m<ipython-input-5-ace0cefb811c>\u001b[0m in \u001b[0;36m<module>\u001b[1;34m()\u001b[0m\n\u001b[0;32m      8\u001b[0m     \u001b[0mprint\u001b[0m\u001b[1;33m(\u001b[0m\u001b[0mx\u001b[0m\u001b[1;33m)\u001b[0m\u001b[1;33m\u001b[0m\u001b[0m\n\u001b[0;32m      9\u001b[0m \u001b[1;33m\u001b[0m\u001b[0m\n\u001b[1;32m---> 10\u001b[1;33m \u001b[0mt\u001b[0m\u001b[1;33m[\u001b[0m\u001b[1;36m0\u001b[0m\u001b[1;33m]\u001b[0m\u001b[1;33m=\u001b[0m\u001b[1;34m\"li gang\"\u001b[0m\u001b[1;33m\u001b[0m\u001b[0m\n\u001b[0m\u001b[0;32m     11\u001b[0m \u001b[1;33m\u001b[0m\u001b[0m\n\u001b[0;32m     12\u001b[0m \u001b[1;32mfor\u001b[0m \u001b[0mi\u001b[0m \u001b[1;32min\u001b[0m \u001b[0mrange\u001b[0m\u001b[1;33m(\u001b[0m\u001b[0mlen\u001b[0m\u001b[1;33m(\u001b[0m\u001b[0mt\u001b[0m\u001b[1;33m)\u001b[0m\u001b[1;33m)\u001b[0m\u001b[1;33m:\u001b[0m\u001b[1;33m\u001b[0m\u001b[0m\n",
      "\u001b[1;31mTypeError\u001b[0m: 'tuple' object does not support item assignment"
     ]
    }
   ],
   "source": [
    "# 元组tuple\n",
    "# 特点：小括号、元素不可变\n",
    "\n",
    "t = (\"li lei\",\"han meimei\",35,7.6)\n",
    "print(type(t))\n",
    "\n",
    "for x in t:\n",
    "    print(x) \n",
    "    \n",
    "t[0]=\"li gang\"  \n",
    "\n",
    "for i in range(len(t)):\n",
    "    print(t[i])\n",
    "\n"
   ]
  },
  {
   "cell_type": "code",
   "execution_count": 6,
   "metadata": {},
   "outputs": [
    {
     "name": "stdout",
     "output_type": "stream",
     "text": [
      "<class 'dict'>\n",
      "35\n",
      "key = li lei \t value = 35\n",
      "key = 9527 \t value = 100.86\n"
     ]
    }
   ],
   "source": [
    "# 字典dict\n",
    "# 特点：大括号，里面是k:v 对应java里的Map\n",
    "d = {}\n",
    "print(type(d))\n",
    "\n",
    "d['li lei'] = 35\n",
    "d[9527] = 100.86\n",
    "\n",
    "# d = {\"li lei\":35,9527:7.6}\n",
    "\n",
    "print(d[\"li lei\"])\n",
    "\n",
    "\n",
    "for k,v in d.items():\n",
    "    print(f\"key = {k} \\t value = {v}\")"
   ]
  },
  {
   "cell_type": "code",
   "execution_count": 22,
   "metadata": {},
   "outputs": [
    {
     "name": "stdout",
     "output_type": "stream",
     "text": [
      "{1, 2, 3, 'b', 'c', 'a'} <class 'set'>\n",
      "{2, 3, 4, 'b', 'd', 'c'} <class 'set'>\n",
      "set1∪set2 = {1, 2, 3, 4, 'b', 'd', 'c', 'a'}\n",
      "set1∩set2 = {2, 3, 'b', 'c'}\n"
     ]
    }
   ],
   "source": [
    "#集合set\n",
    "#特点 大括号，无重复，支持数学运算\n",
    "\n",
    "li = [\"a\",\"b\",\"c\",1,2,3]\n",
    "set1 = set(li) \n",
    "\n",
    "set2 = {2,2,3,3,4,\"b\",\"c\",\"d\"}\n",
    "\n",
    "######创建空集合只能用set(),因为{}创建空dict\n",
    "\n",
    "\n",
    "\n",
    "print(set1,type(set1))\n",
    "print(set2,type(set2))\n",
    "\n",
    "#set支持数学运算\n",
    "#并集 |\n",
    "print(f\"set1∪set2 = {set1 | set2}\")\n",
    "#交集 &\n",
    "print(f\"set1∩set2 = {set1 & set2}\")\n"
   ]
  },
  {
   "cell_type": "markdown",
   "metadata": {},
   "source": [
    "##### 切片操作"
   ]
  },
  {
   "cell_type": "code",
   "execution_count": 11,
   "metadata": {
    "collapsed": true
   },
   "outputs": [
    {
     "name": "stdout",
     "output_type": "stream",
     "text": [
      "['li lei', 'han meimei', 35]\n",
      "['han meimei', 35, 7.6]\n",
      "['li lei', 'han meimei', 35, 7.6]\n",
      "['li lei', 'han meimei', 35]\n"
     ]
    }
   ],
   "source": [
    "#切片操作\n",
    "li = [\"li lei\",\"han meimei\",35,7.6]\n",
    "print(li[0:3])\n",
    "print(li[-3:])\n",
    "print(li[:])\n",
    "print(li[:-1])"
   ]
  },
  {
   "cell_type": "markdown",
   "metadata": {},
   "source": [
    "##### 函数\n",
    "* 定义\n",
    "    + 函数代码块以 def 关键词开头，后接函数名称和圆括号 ()。\n",
    "    + 圆括号之间可以用于定义参数。\n",
    "    + 函数的第一行语句可以选择性地使用文档字符串添加函数说明。\n",
    "    + 函数内容以冒号起始，并且缩进。\n",
    "    + return [表达式] 结束函数，选择性地返回一个值给调用方。不带表达式的return或者没有return相当于返回 None。\n",
    "* 调用\n",
    "    + 函数名()"
   ]
  },
  {
   "cell_type": "code",
   "execution_count": 7,
   "metadata": {},
   "outputs": [
    {
     "name": "stdout",
     "output_type": "stream",
     "text": [
      "[1, 2, 3, 4, 5, 6, 7, 8, 9, 10]\n"
     ]
    }
   ],
   "source": [
    "# pyhton的快速排序\n",
    "def quickSort(a,lo,hi):\n",
    "    \"\"\"\n",
    "    a 要排序的数组\n",
    "    lo 数组里要排序的最小索引\n",
    "    hi 数组里要排序的最大索引\n",
    "    \"\"\"\n",
    "    if lo < hi:\n",
    "        lt,gt,key,i = lo,hi,a[lo],lo\n",
    "        while i <= gt:\n",
    "            if key > a[i]:\n",
    "                a[lt],a[i] = a[i],a[lt]\n",
    "                lt += 1\n",
    "                i += 1\n",
    "            elif key < a[i]:\n",
    "                a[gt],a[i] = a[i],a[gt]\n",
    "                gt -= 1\n",
    "            else:\n",
    "                i += 1\n",
    "        quickSort(a,lo,lt - 1)\n",
    "        quickSort(a,gt + 1,hi)\n",
    "        \n",
    "        \n",
    "a = [10,6,7,2,3,4,9,8,5,1]\n",
    "#调用函数\n",
    "quickSort(a,0,len(a)-1)\n",
    "\n",
    "print(a)"
   ]
  },
  {
   "cell_type": "markdown",
   "metadata": {},
   "source": [
    "##### 文件 IO"
   ]
  },
  {
   "cell_type": "code",
   "execution_count": 9,
   "metadata": {
    "collapsed": true
   },
   "outputs": [
    {
     "name": "stdout",
     "output_type": "stream",
     "text": [
      "<class 'list'>\n",
      "huangbo\tmath\t81\n",
      "\n",
      "huangbo\tenglish\t87\n",
      "\n",
      "huangbo\tcomputer\t57\n",
      "\n",
      "xuzheng\tmath\t89\n",
      "\n",
      "xuzheng\tenglish\t92\n",
      "\n",
      "xuzheng\tcomputer\t83\n",
      "\n",
      "wangbaoqiang\tmath\t78\n",
      "\n",
      "wangbaoqiang\tenglish\t88\n",
      "\n",
      "wangbaoqiang\tcomputer\t90\n",
      "\n",
      "dengchao\tmath\t88\n",
      "\n",
      "dengchao\tenglish\t78\n",
      "\n",
      "dengchao\tcomputer\t58\n",
      "\n"
     ]
    }
   ],
   "source": [
    "# python  读取文本示例\n",
    "\n",
    "# fr = open(\"./data/1.txt\")\n",
    "# lines = fr.readlines()\n",
    "# if fr :            \n",
    "#     fr.close()\n",
    "\n",
    "# with 语法 自动关闭 更简洁\n",
    "with open(\"./data/1.txt\") as fr:  \n",
    "    lines = fr.readlines()\n",
    "    \n",
    "print(type(lines))   \n",
    "\n",
    "for line in lines:\n",
    "    print(line)\n"
   ]
  },
  {
   "cell_type": "markdown",
   "metadata": {},
   "source": [
    "### 模块和包\n",
    "#### 模块\n",
    "Python会将所有 `.py` 结尾的文件认定为Python代码文件，考虑下面的脚本 `ex1.py` ："
   ]
  },
  {
   "cell_type": "code",
   "execution_count": 1,
   "metadata": {},
   "outputs": [
    {
     "name": "stdout",
     "output_type": "stream",
     "text": [
      "Writing ex1.py\n"
     ]
    }
   ],
   "source": [
    "%%writefile ex1.py\n",
    "\n",
    "PI = 3.1416\n",
    "\n",
    "def sum(lst):\n",
    "    tot = lst[0]\n",
    "    for value in lst[1:]:\n",
    "        tot = tot + value\n",
    "    return tot\n",
    "    \n",
    "w = [0, 1, 2, 3]\n",
    "print(sum(w), PI)"
   ]
  },
  {
   "cell_type": "markdown",
   "metadata": {},
   "source": [
    "可以执行它："
   ]
  },
  {
   "cell_type": "code",
   "execution_count": 11,
   "metadata": {},
   "outputs": [
    {
     "name": "stdout",
     "output_type": "stream",
     "text": [
      "6 3.1416\n"
     ]
    }
   ],
   "source": [
    "%run ex1.py"
   ]
  },
  {
   "cell_type": "markdown",
   "metadata": {},
   "source": [
    "这个脚本可以当作一个模块，可以使用import关键词加载并执行它（这里要求ex1.py在当前工作目录）："
   ]
  },
  {
   "cell_type": "code",
   "execution_count": 2,
   "metadata": {},
   "outputs": [
    {
     "name": "stdout",
     "output_type": "stream",
     "text": [
      "6 3.1416\n"
     ]
    }
   ],
   "source": [
    "import ex1"
   ]
  },
  {
   "cell_type": "markdown",
   "metadata": {},
   "source": [
    "print(type(ex1))在导入时，**Python**会执行一遍模块中的所有内容。\n",
    "\n",
    "`ex1.py` 中所有的变量都被载入了当前环境中，不过要使用\n",
    "\n",
    "    ex1.变量名\n",
    "\n",
    "的方法来查看或者修改这些变量："
   ]
  },
  {
   "cell_type": "code",
   "execution_count": 3,
   "metadata": {},
   "outputs": [
    {
     "name": "stdout",
     "output_type": "stream",
     "text": [
      "3.1416\n",
      "3.141592653\n"
     ]
    }
   ],
   "source": [
    "print(ex1.PI)\n",
    "ex1.PI = 3.141592653\n",
    "print(ex1.PI)"
   ]
  },
  {
   "cell_type": "markdown",
   "metadata": {},
   "source": [
    "还可以用\n",
    "\n",
    "    ex1.函数名\n",
    "\n",
    "调用模块里面的函数："
   ]
  },
  {
   "cell_type": "code",
   "execution_count": 4,
   "metadata": {},
   "outputs": [
    {
     "name": "stdout",
     "output_type": "stream",
     "text": [
      "9\n"
     ]
    }
   ],
   "source": [
    "print(ex1.sum([2, 3, 4]))"
   ]
  },
  {
   "cell_type": "markdown",
   "metadata": {},
   "source": [
    "为了提高效率，Python只会载入模块一次，已经载入的模块再次载入时，Python并不会真正执行载入操作，哪怕模块的内容已经改变。\n",
    "\n",
    "例如，这里重新导入 ex1 时，并不会执行 ex1.py 中的 print 语句："
   ]
  },
  {
   "cell_type": "code",
   "execution_count": 5,
   "metadata": {},
   "outputs": [],
   "source": [
    "import ex1"
   ]
  },
  {
   "cell_type": "markdown",
   "metadata": {},
   "source": [
    "需要重新导入模块时，可以使用`reload`强制重新载入它："
   ]
  },
  {
   "cell_type": "code",
   "execution_count": 7,
   "metadata": {},
   "outputs": [
    {
     "name": "stdout",
     "output_type": "stream",
     "text": [
      "6 3.1416\n"
     ]
    },
    {
     "data": {
      "text/plain": [
       "<module 'ex1' from 'D:\\\\workplace\\\\jupyter-workplace\\\\数据分析\\\\ex1.py'>"
      ]
     },
     "execution_count": 7,
     "metadata": {},
     "output_type": "execute_result"
    }
   ],
   "source": [
    "from imp import reload\n",
    "\n",
    "reload(ex1)"
   ]
  },
  {
   "cell_type": "markdown",
   "metadata": {},
   "source": [
    "删除之前生成的文件："
   ]
  },
  {
   "cell_type": "code",
   "execution_count": 21,
   "metadata": {},
   "outputs": [],
   "source": [
    "import os\n",
    "os.remove('ex1.py')"
   ]
  },
  {
   "cell_type": "markdown",
   "metadata": {},
   "source": [
    "### `__name__` 属性\n",
    "\n",
    "\n",
    "有时候我们想将一个 `.py` 文件既当作脚本，又能当作模块用，这个时候可以使用 `__name__` 这个属性。\n",
    "\n",
    "只有当文件被当作脚本执行的时候， `__name__`的值才会是 `'__main__'`，所以我们可以："
   ]
  },
  {
   "cell_type": "code",
   "execution_count": 22,
   "metadata": {},
   "outputs": [
    {
     "name": "stdout",
     "output_type": "stream",
     "text": [
      "Writing ex2.py\n"
     ]
    }
   ],
   "source": [
    "%%writefile ex2.py\n",
    "\n",
    "PI = 3.1416\n",
    "\n",
    "def sum(lst):\n",
    "    \"\"\" Sum the values in a list\n",
    "    \"\"\"\n",
    "    tot = 0\n",
    "    for value in lst:\n",
    "        tot = tot + value\n",
    "    return tot\n",
    "\n",
    "def add(x, y):\n",
    "    \" Add two values.\"\n",
    "    a = x + y\n",
    "    return a\n",
    "\n",
    "def test():\n",
    "    w = [0,1,2,3]\n",
    "    assert(sum(w) == 6)\n",
    "    print('test passed.')\n",
    "    \n",
    "if __name__ == '__main__':\n",
    "    test()"
   ]
  },
  {
   "cell_type": "code",
   "execution_count": null,
   "metadata": {},
   "outputs": [],
   "source": [
    "%run ex2.py"
   ]
  },
  {
   "cell_type": "markdown",
   "metadata": {},
   "source": [
    "当作模块导入， `test()` 不会执行："
   ]
  },
  {
   "cell_type": "code",
   "execution_count": 24,
   "metadata": {},
   "outputs": [],
   "source": [
    "import ex2"
   ]
  },
  {
   "cell_type": "code",
   "execution_count": 25,
   "metadata": {
    "collapsed": true
   },
   "outputs": [
    {
     "name": "stdout",
     "output_type": "stream",
     "text": [
      "Variable    Type             Data/Info\n",
      "--------------------------------------\n",
      "PI          float            3.1416\n",
      "a           list             n=10\n",
      "d           dict             n=2\n",
      "ex1         module           <module 'ex1' from 'D:\\\\w<...>workplace\\\\数据分析\\\\ex1.py'>\n",
      "ex2         module           <module 'ex2' from 'D:\\\\w<...>workplace\\\\数据分析\\\\ex2.py'>\n",
      "fr          TextIOWrapper    <_io.TextIOWrapper name='<...>ode='r' encoding='cp936'>\n",
      "i           int              3\n",
      "k           int              9527\n",
      "li          list             n=4\n",
      "line        str              dengchao\tcomputer\t58\\n\n",
      "lines       list             n=12\n",
      "math        module           <module 'math' (built-in)>\n",
      "os          module           <module 'os' from 'd:\\\\so<...>\\\\Anaconda3\\\\lib\\\\os.py'>\n",
      "quickSort   function         <function quickSort at 0x000002726F5E9E18>\n",
      "sum         function         <function sum at 0x000002726F5E9598>\n",
      "t           tuple            n=4\n",
      "text        str              q\n",
      "v           float            100.86\n",
      "w           list             n=4\n",
      "x           float            7.6\n",
      "y           float            2.0\n"
     ]
    }
   ],
   "source": [
    "%whos"
   ]
  },
  {
   "cell_type": "markdown",
   "metadata": {},
   "source": [
    "但是可以使用其中的变量："
   ]
  },
  {
   "cell_type": "code",
   "execution_count": 26,
   "metadata": {},
   "outputs": [
    {
     "data": {
      "text/plain": [
       "3.1416"
      ]
     },
     "execution_count": 26,
     "metadata": {},
     "output_type": "execute_result"
    }
   ],
   "source": [
    "ex2.PI"
   ]
  },
  {
   "cell_type": "markdown",
   "metadata": {},
   "source": [
    "### 包\n",
    "假设我们有这样的一个文件夹：\n",
    "\n",
    "foo/\n",
    "- `__init__.py` \n",
    "- `bar.py` (defines func)\n",
    "- `baz.py` (defines zap)\n",
    "\n",
    "这意味着 foo 是一个包，我们可以这样导入其中的内容：\n",
    "\n",
    "```python    \n",
    "from foo.bar import func\n",
    "from foo.baz import zap\n",
    "```\n",
    "\n",
    "`bar` 和 `baz` 都是 `foo` 文件夹下的 `.py` 文件。\n",
    "\n",
    "导入包要求：\n",
    "- 文件夹 `foo` 在**Python**的搜索路径中\n",
    "- `__init__.py` 表示 `foo` 是一个包，它可以是个空文件。"
   ]
  }
 ],
 "metadata": {
  "kernelspec": {
   "display_name": "Python 3",
   "language": "python",
   "name": "python3"
  },
  "language_info": {
   "codemirror_mode": {
    "name": "ipython",
    "version": 3
   },
   "file_extension": ".py",
   "mimetype": "text/x-python",
   "name": "python",
   "nbconvert_exporter": "python",
   "pygments_lexer": "ipython3",
   "version": "3.7.0"
  }
 },
 "nbformat": 4,
 "nbformat_minor": 2
}
